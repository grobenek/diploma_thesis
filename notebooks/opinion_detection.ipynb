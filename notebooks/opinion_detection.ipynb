{
 "cells": [
  {
   "cell_type": "code",
   "execution_count": 12,
   "id": "fbb5be07f1da51f3",
   "metadata": {
    "ExecuteTime": {
     "end_time": "2025-02-15T20:56:56.909468Z",
     "start_time": "2025-02-15T20:56:52.408904Z"
    }
   },
   "outputs": [],
   "source": [
    "from keras.api import layers, models\n",
    "import pandas as pd\n",
    "import numpy as np\n",
    "from sklearn.model_selection import train_test_split\n",
    "import matplotlib.pyplot as plt\n",
    "from keras.api import metrics\n",
    "import tensorflow as tf\n",
    "tf.random.set_seed(1)\n",
    "\n",
    "from sklearn.metrics import confusion_matrix\n",
    "from sklearn.metrics import ConfusionMatrixDisplay"
   ]
  },
  {
   "cell_type": "markdown",
   "id": "ec737c3ab1d36cf",
   "metadata": {},
   "source": [
    "Sentiment has 3 classes"
   ]
  },
  {
   "cell_type": "code",
   "execution_count": 13,
   "id": "initial_id",
   "metadata": {
    "ExecuteTime": {
     "end_time": "2025-02-15T20:56:57.156626Z",
     "start_time": "2025-02-15T20:56:56.918573Z"
    },
    "collapsed": true
   },
   "outputs": [
    {
     "data": {
      "text/html": [
       "<pre style=\"white-space:pre;overflow-x:auto;line-height:normal;font-family:Menlo,'DejaVu Sans Mono',consolas,'Courier New',monospace\"><span style=\"font-weight: bold\">Model: \"sequential_2\"</span>\n",
       "</pre>\n"
      ],
      "text/plain": [
       "\u001b[1mModel: \"sequential_2\"\u001b[0m\n"
      ]
     },
     "metadata": {},
     "output_type": "display_data"
    },
    {
     "data": {
      "text/html": [
       "<pre style=\"white-space:pre;overflow-x:auto;line-height:normal;font-family:Menlo,'DejaVu Sans Mono',consolas,'Courier New',monospace\">┏━━━━━━━━━━━━━━━━━━━━━━━━━━━━━━━━━┳━━━━━━━━━━━━━━━━━━━━━━━━┳━━━━━━━━━━━━━━━┓\n",
       "┃<span style=\"font-weight: bold\"> Layer (type)                    </span>┃<span style=\"font-weight: bold\"> Output Shape           </span>┃<span style=\"font-weight: bold\">       Param # </span>┃\n",
       "┡━━━━━━━━━━━━━━━━━━━━━━━━━━━━━━━━━╇━━━━━━━━━━━━━━━━━━━━━━━━╇━━━━━━━━━━━━━━━┩\n",
       "│ flatten_2 (<span style=\"color: #0087ff; text-decoration-color: #0087ff\">Flatten</span>)             │ (<span style=\"color: #00d7ff; text-decoration-color: #00d7ff\">None</span>, <span style=\"color: #00af00; text-decoration-color: #00af00\">7800</span>)           │             <span style=\"color: #00af00; text-decoration-color: #00af00\">0</span> │\n",
       "├─────────────────────────────────┼────────────────────────┼───────────────┤\n",
       "│ layer_1 (<span style=\"color: #0087ff; text-decoration-color: #0087ff\">Dense</span>)                 │ (<span style=\"color: #00d7ff; text-decoration-color: #00d7ff\">None</span>, <span style=\"color: #00af00; text-decoration-color: #00af00\">200</span>)            │     <span style=\"color: #00af00; text-decoration-color: #00af00\">1,560,200</span> │\n",
       "├─────────────────────────────────┼────────────────────────┼───────────────┤\n",
       "│ dropout_3 (<span style=\"color: #0087ff; text-decoration-color: #0087ff\">Dropout</span>)             │ (<span style=\"color: #00d7ff; text-decoration-color: #00d7ff\">None</span>, <span style=\"color: #00af00; text-decoration-color: #00af00\">200</span>)            │             <span style=\"color: #00af00; text-decoration-color: #00af00\">0</span> │\n",
       "├─────────────────────────────────┼────────────────────────┼───────────────┤\n",
       "│ batch_normalization_3           │ (<span style=\"color: #00d7ff; text-decoration-color: #00d7ff\">None</span>, <span style=\"color: #00af00; text-decoration-color: #00af00\">200</span>)            │           <span style=\"color: #00af00; text-decoration-color: #00af00\">800</span> │\n",
       "│ (<span style=\"color: #0087ff; text-decoration-color: #0087ff\">BatchNormalization</span>)            │                        │               │\n",
       "├─────────────────────────────────┼────────────────────────┼───────────────┤\n",
       "│ layer_2 (<span style=\"color: #0087ff; text-decoration-color: #0087ff\">Dense</span>)                 │ (<span style=\"color: #00d7ff; text-decoration-color: #00d7ff\">None</span>, <span style=\"color: #00af00; text-decoration-color: #00af00\">100</span>)            │        <span style=\"color: #00af00; text-decoration-color: #00af00\">20,100</span> │\n",
       "├─────────────────────────────────┼────────────────────────┼───────────────┤\n",
       "│ dropout_4 (<span style=\"color: #0087ff; text-decoration-color: #0087ff\">Dropout</span>)             │ (<span style=\"color: #00d7ff; text-decoration-color: #00d7ff\">None</span>, <span style=\"color: #00af00; text-decoration-color: #00af00\">100</span>)            │             <span style=\"color: #00af00; text-decoration-color: #00af00\">0</span> │\n",
       "├─────────────────────────────────┼────────────────────────┼───────────────┤\n",
       "│ batch_normalization_4           │ (<span style=\"color: #00d7ff; text-decoration-color: #00d7ff\">None</span>, <span style=\"color: #00af00; text-decoration-color: #00af00\">100</span>)            │           <span style=\"color: #00af00; text-decoration-color: #00af00\">400</span> │\n",
       "│ (<span style=\"color: #0087ff; text-decoration-color: #0087ff\">BatchNormalization</span>)            │                        │               │\n",
       "├─────────────────────────────────┼────────────────────────┼───────────────┤\n",
       "│ opinion (<span style=\"color: #0087ff; text-decoration-color: #0087ff\">Dense</span>)                 │ (<span style=\"color: #00d7ff; text-decoration-color: #00d7ff\">None</span>, <span style=\"color: #00af00; text-decoration-color: #00af00\">1</span>)              │           <span style=\"color: #00af00; text-decoration-color: #00af00\">101</span> │\n",
       "└─────────────────────────────────┴────────────────────────┴───────────────┘\n",
       "</pre>\n"
      ],
      "text/plain": [
       "┏━━━━━━━━━━━━━━━━━━━━━━━━━━━━━━━━━┳━━━━━━━━━━━━━━━━━━━━━━━━┳━━━━━━━━━━━━━━━┓\n",
       "┃\u001b[1m \u001b[0m\u001b[1mLayer (type)                   \u001b[0m\u001b[1m \u001b[0m┃\u001b[1m \u001b[0m\u001b[1mOutput Shape          \u001b[0m\u001b[1m \u001b[0m┃\u001b[1m \u001b[0m\u001b[1m      Param #\u001b[0m\u001b[1m \u001b[0m┃\n",
       "┡━━━━━━━━━━━━━━━━━━━━━━━━━━━━━━━━━╇━━━━━━━━━━━━━━━━━━━━━━━━╇━━━━━━━━━━━━━━━┩\n",
       "│ flatten_2 (\u001b[38;5;33mFlatten\u001b[0m)             │ (\u001b[38;5;45mNone\u001b[0m, \u001b[38;5;34m7800\u001b[0m)           │             \u001b[38;5;34m0\u001b[0m │\n",
       "├─────────────────────────────────┼────────────────────────┼───────────────┤\n",
       "│ layer_1 (\u001b[38;5;33mDense\u001b[0m)                 │ (\u001b[38;5;45mNone\u001b[0m, \u001b[38;5;34m200\u001b[0m)            │     \u001b[38;5;34m1,560,200\u001b[0m │\n",
       "├─────────────────────────────────┼────────────────────────┼───────────────┤\n",
       "│ dropout_3 (\u001b[38;5;33mDropout\u001b[0m)             │ (\u001b[38;5;45mNone\u001b[0m, \u001b[38;5;34m200\u001b[0m)            │             \u001b[38;5;34m0\u001b[0m │\n",
       "├─────────────────────────────────┼────────────────────────┼───────────────┤\n",
       "│ batch_normalization_3           │ (\u001b[38;5;45mNone\u001b[0m, \u001b[38;5;34m200\u001b[0m)            │           \u001b[38;5;34m800\u001b[0m │\n",
       "│ (\u001b[38;5;33mBatchNormalization\u001b[0m)            │                        │               │\n",
       "├─────────────────────────────────┼────────────────────────┼───────────────┤\n",
       "│ layer_2 (\u001b[38;5;33mDense\u001b[0m)                 │ (\u001b[38;5;45mNone\u001b[0m, \u001b[38;5;34m100\u001b[0m)            │        \u001b[38;5;34m20,100\u001b[0m │\n",
       "├─────────────────────────────────┼────────────────────────┼───────────────┤\n",
       "│ dropout_4 (\u001b[38;5;33mDropout\u001b[0m)             │ (\u001b[38;5;45mNone\u001b[0m, \u001b[38;5;34m100\u001b[0m)            │             \u001b[38;5;34m0\u001b[0m │\n",
       "├─────────────────────────────────┼────────────────────────┼───────────────┤\n",
       "│ batch_normalization_4           │ (\u001b[38;5;45mNone\u001b[0m, \u001b[38;5;34m100\u001b[0m)            │           \u001b[38;5;34m400\u001b[0m │\n",
       "│ (\u001b[38;5;33mBatchNormalization\u001b[0m)            │                        │               │\n",
       "├─────────────────────────────────┼────────────────────────┼───────────────┤\n",
       "│ opinion (\u001b[38;5;33mDense\u001b[0m)                 │ (\u001b[38;5;45mNone\u001b[0m, \u001b[38;5;34m1\u001b[0m)              │           \u001b[38;5;34m101\u001b[0m │\n",
       "└─────────────────────────────────┴────────────────────────┴───────────────┘\n"
      ]
     },
     "metadata": {},
     "output_type": "display_data"
    },
    {
     "data": {
      "text/html": [
       "<pre style=\"white-space:pre;overflow-x:auto;line-height:normal;font-family:Menlo,'DejaVu Sans Mono',consolas,'Courier New',monospace\"><span style=\"font-weight: bold\"> Total params: </span><span style=\"color: #00af00; text-decoration-color: #00af00\">1,581,601</span> (6.03 MB)\n",
       "</pre>\n"
      ],
      "text/plain": [
       "\u001b[1m Total params: \u001b[0m\u001b[38;5;34m1,581,601\u001b[0m (6.03 MB)\n"
      ]
     },
     "metadata": {},
     "output_type": "display_data"
    },
    {
     "data": {
      "text/html": [
       "<pre style=\"white-space:pre;overflow-x:auto;line-height:normal;font-family:Menlo,'DejaVu Sans Mono',consolas,'Courier New',monospace\"><span style=\"font-weight: bold\"> Trainable params: </span><span style=\"color: #00af00; text-decoration-color: #00af00\">1,581,001</span> (6.03 MB)\n",
       "</pre>\n"
      ],
      "text/plain": [
       "\u001b[1m Trainable params: \u001b[0m\u001b[38;5;34m1,581,001\u001b[0m (6.03 MB)\n"
      ]
     },
     "metadata": {},
     "output_type": "display_data"
    },
    {
     "data": {
      "text/html": [
       "<pre style=\"white-space:pre;overflow-x:auto;line-height:normal;font-family:Menlo,'DejaVu Sans Mono',consolas,'Courier New',monospace\"><span style=\"font-weight: bold\"> Non-trainable params: </span><span style=\"color: #00af00; text-decoration-color: #00af00\">600</span> (2.34 KB)\n",
       "</pre>\n"
      ],
      "text/plain": [
       "\u001b[1m Non-trainable params: \u001b[0m\u001b[38;5;34m600\u001b[0m (2.34 KB)\n"
      ]
     },
     "metadata": {},
     "output_type": "display_data"
    }
   ],
   "source": [
    "model = models.Sequential()\n",
    "\n",
    "model.add(layers.Input(shape=(26, 300), name=\"Domain_1\"))\n",
    "\n",
    "model.add(layers.Flatten())\n",
    "\n",
    "model.add(layers.Dense(200, activation='relu', name=\"layer_1\"))\n",
    "\n",
    "model.add(layers.Dropout(0.8, name=\"dropout_3\"))\n",
    "\n",
    "model.add(layers.BatchNormalization(name=\"batch_normalization_3\"))\n",
    "\n",
    "model.add(layers.Dense(100, activation='relu', name=\"layer_2\"))\n",
    "\n",
    "model.add(layers.Dropout(0.8, name=\"dropout_4\"))\n",
    "\n",
    "model.add(layers.BatchNormalization(name=\"batch_normalization_4\"))\n",
    "\n",
    "model.add(layers.Dense(1, activation='sigmoid', name=\"opinion\"))\n",
    "\n",
    "model.compile(\n",
    "    optimizer='adam',\n",
    "    loss='binary_crossentropy',\n",
    "    metrics=['accuracy', metrics.Precision(name=\"precision\"), metrics.Recall(name=\"recall\")],\n",
    ")\n",
    "\n",
    "model.summary()"
   ]
  },
  {
   "cell_type": "code",
   "execution_count": 14,
   "id": "70cfb9d6daca196f",
   "metadata": {
    "ExecuteTime": {
     "end_time": "2025-02-15T20:57:05.301927Z",
     "start_time": "2025-02-15T20:56:57.315516Z"
    }
   },
   "outputs": [],
   "source": [
    "df_original = pd.read_csv(\"data/processed/processed_tweets.csv\")"
   ]
  },
  {
   "cell_type": "code",
   "execution_count": 15,
   "id": "e1e7d605f7ecc21d",
   "metadata": {
    "ExecuteTime": {
     "end_time": "2025-02-15T20:57:05.326674Z",
     "start_time": "2025-02-15T20:57:05.318349Z"
    }
   },
   "outputs": [
    {
     "data": {
      "text/html": [
       "<div>\n",
       "<style scoped>\n",
       "    .dataframe tbody tr th:only-of-type {\n",
       "        vertical-align: middle;\n",
       "    }\n",
       "\n",
       "    .dataframe tbody tr th {\n",
       "        vertical-align: top;\n",
       "    }\n",
       "\n",
       "    .dataframe thead th {\n",
       "        text-align: right;\n",
       "    }\n",
       "</style>\n",
       "<table border=\"1\" class=\"dataframe\">\n",
       "  <thead>\n",
       "    <tr style=\"text-align: right;\">\n",
       "      <th></th>\n",
       "      <th>text</th>\n",
       "      <th>Sentiment</th>\n",
       "      <th>Has opinion</th>\n",
       "      <th>cleaned_text</th>\n",
       "      <th>word_vectors</th>\n",
       "      <th>glove_vectors</th>\n",
       "    </tr>\n",
       "  </thead>\n",
       "  <tbody>\n",
       "    <tr>\n",
       "      <th>0</th>\n",
       "      <td>iPad: “Welcome to Apple Intelligence the newes...</td>\n",
       "      <td>-1.0</td>\n",
       "      <td>0.0</td>\n",
       "      <td>ipad welcome apple intelligence new     ipad</td>\n",
       "      <td>[array([-2.04101562e-01, -1.73828125e-01, -2.2...</td>\n",
       "      <td>[array([ 0.11563  ,  0.3842   , -0.16833  ,  0...</td>\n",
       "    </tr>\n",
       "    <tr>\n",
       "      <th>1</th>\n",
       "      <td>I believe they call it \"Apple Intelligence\", Sara</td>\n",
       "      <td>0.0</td>\n",
       "      <td>0.0</td>\n",
       "      <td>believe call apple intelligence sara</td>\n",
       "      <td>[array([-0.1640625 ,  0.01080322,  0.03320312,...</td>\n",
       "      <td>[array([-2.8593e-01,  3.4309e-01, -3.6802e-01,...</td>\n",
       "    </tr>\n",
       "    <tr>\n",
       "      <th>2</th>\n",
       "      <td>Unfortunately, there's \"Apple Intelligence\" ad...</td>\n",
       "      <td>-1.0</td>\n",
       "      <td>0.0</td>\n",
       "      <td>unfortunately apple intelligence add software ...</td>\n",
       "      <td>[array([ 8.39233398e-04,  2.33154297e-02, -1.9...</td>\n",
       "      <td>[array([-0.12328  ,  0.016084 , -0.196    ,  0...</td>\n",
       "    </tr>\n",
       "    <tr>\n",
       "      <th>3</th>\n",
       "      <td>i did turn it off globally but idk how off it ...</td>\n",
       "      <td>0.0</td>\n",
       "      <td>0.0</td>\n",
       "      <td>turn globally idk truly</td>\n",
       "      <td>[array([-0.06298828,  0.10693359, -0.00549316,...</td>\n",
       "      <td>[array([ 1.9474e-01,  3.8828e-01,  1.3956e-01,...</td>\n",
       "    </tr>\n",
       "    <tr>\n",
       "      <th>4</th>\n",
       "      <td>Uh…yeah. Yes, do that, Apple. I’m fine with th...</td>\n",
       "      <td>-1.0</td>\n",
       "      <td>0.0</td>\n",
       "      <td>uhyeah yes apple fine   leave intelligence</td>\n",
       "      <td>[array([ 1.15722656e-01, -1.29882812e-01,  6.5...</td>\n",
       "      <td>[array([0., 0., 0., 0., 0., 0., 0., 0., 0., 0....</td>\n",
       "    </tr>\n",
       "  </tbody>\n",
       "</table>\n",
       "</div>"
      ],
      "text/plain": [
       "                                                text  Sentiment  Has opinion  \\\n",
       "0  iPad: “Welcome to Apple Intelligence the newes...       -1.0          0.0   \n",
       "1  I believe they call it \"Apple Intelligence\", Sara        0.0          0.0   \n",
       "2  Unfortunately, there's \"Apple Intelligence\" ad...       -1.0          0.0   \n",
       "3  i did turn it off globally but idk how off it ...        0.0          0.0   \n",
       "4  Uh…yeah. Yes, do that, Apple. I’m fine with th...       -1.0          0.0   \n",
       "\n",
       "                                        cleaned_text  \\\n",
       "0     ipad welcome apple intelligence new     ipad     \n",
       "1               believe call apple intelligence sara   \n",
       "2  unfortunately apple intelligence add software ...   \n",
       "3                            turn globally idk truly   \n",
       "4         uhyeah yes apple fine   leave intelligence   \n",
       "\n",
       "                                        word_vectors  \\\n",
       "0  [array([-2.04101562e-01, -1.73828125e-01, -2.2...   \n",
       "1  [array([-0.1640625 ,  0.01080322,  0.03320312,...   \n",
       "2  [array([ 8.39233398e-04,  2.33154297e-02, -1.9...   \n",
       "3  [array([-0.06298828,  0.10693359, -0.00549316,...   \n",
       "4  [array([ 1.15722656e-01, -1.29882812e-01,  6.5...   \n",
       "\n",
       "                                       glove_vectors  \n",
       "0  [array([ 0.11563  ,  0.3842   , -0.16833  ,  0...  \n",
       "1  [array([-2.8593e-01,  3.4309e-01, -3.6802e-01,...  \n",
       "2  [array([-0.12328  ,  0.016084 , -0.196    ,  0...  \n",
       "3  [array([ 1.9474e-01,  3.8828e-01,  1.3956e-01,...  \n",
       "4  [array([0., 0., 0., 0., 0., 0., 0., 0., 0., 0....  "
      ]
     },
     "execution_count": 15,
     "metadata": {},
     "output_type": "execute_result"
    }
   ],
   "source": [
    "df_original.head()"
   ]
  },
  {
   "cell_type": "code",
   "execution_count": 16,
   "id": "350010b4fa83b17b",
   "metadata": {
    "ExecuteTime": {
     "end_time": "2025-02-15T20:57:05.379870Z",
     "start_time": "2025-02-15T20:57:05.364644Z"
    }
   },
   "outputs": [
    {
     "name": "stdout",
     "output_type": "stream",
     "text": [
      "<class 'pandas.core.frame.DataFrame'>\n",
      "Index: 400 entries, 0 to 399\n",
      "Data columns (total 6 columns):\n",
      " #   Column         Non-Null Count  Dtype  \n",
      "---  ------         --------------  -----  \n",
      " 0   text           400 non-null    object \n",
      " 1   Sentiment      400 non-null    float64\n",
      " 2   Has opinion    400 non-null    float64\n",
      " 3   cleaned_text   400 non-null    object \n",
      " 4   word_vectors   400 non-null    object \n",
      " 5   glove_vectors  400 non-null    object \n",
      "dtypes: float64(2), object(4)\n",
      "memory usage: 21.9+ KB\n"
     ]
    }
   ],
   "source": [
    "df_with_unlabeled = df_original.copy()\n",
    "df_with_unlabeled = df_with_unlabeled[df_with_unlabeled[\"Has opinion\"].isna()]\n",
    "df_original = df_original.dropna(subset=[\"Has opinion\"])\n",
    "df_original.info()"
   ]
  },
  {
   "cell_type": "code",
   "execution_count": 17,
   "id": "1447578535ab9bd0",
   "metadata": {
    "ExecuteTime": {
     "end_time": "2025-02-15T20:57:05.429213Z",
     "start_time": "2025-02-15T20:57:05.424479Z"
    }
   },
   "outputs": [
    {
     "data": {
      "text/plain": [
       "Has opinion\n",
       "0.0    209\n",
       "1.0    191\n",
       "Name: count, dtype: int64"
      ]
     },
     "execution_count": 17,
     "metadata": {},
     "output_type": "execute_result"
    }
   ],
   "source": [
    "df_original[\"Has opinion\"].value_counts()"
   ]
  },
  {
   "cell_type": "code",
   "execution_count": 18,
   "id": "68d193db70b51e72",
   "metadata": {
    "ExecuteTime": {
     "end_time": "2025-02-15T20:57:05.531970Z",
     "start_time": "2025-02-15T20:57:05.450325Z"
    }
   },
   "outputs": [],
   "source": [
    "padded_vectors = np.load(\"data/processed/padded_glove_vectors.npy\")\n",
    "padded_vectors = padded_vectors[:400]"
   ]
  },
  {
   "cell_type": "code",
   "execution_count": 19,
   "id": "6065b5a84687708a",
   "metadata": {
    "ExecuteTime": {
     "end_time": "2025-02-15T20:57:05.542333Z",
     "start_time": "2025-02-15T20:57:05.538009Z"
    }
   },
   "outputs": [
    {
     "data": {
      "text/plain": [
       "(400, 26, 300)"
      ]
     },
     "execution_count": 19,
     "metadata": {},
     "output_type": "execute_result"
    }
   ],
   "source": [
    "padded_vectors.shape"
   ]
  },
  {
   "cell_type": "code",
   "execution_count": 20,
   "id": "935438e6d51bef94",
   "metadata": {
    "ExecuteTime": {
     "end_time": "2025-02-15T20:57:05.554686Z",
     "start_time": "2025-02-15T20:57:05.549264Z"
    }
   },
   "outputs": [
    {
     "data": {
      "text/plain": [
       "Has opinion\n",
       "0.0    209\n",
       "1.0    191\n",
       "Name: count, dtype: int64"
      ]
     },
     "execution_count": 20,
     "metadata": {},
     "output_type": "execute_result"
    }
   ],
   "source": [
    "df_original[\"Has opinion\"].value_counts()"
   ]
  },
  {
   "cell_type": "code",
   "execution_count": 21,
   "id": "e8aa6b57543dca03",
   "metadata": {
    "ExecuteTime": {
     "end_time": "2025-02-15T20:57:05.577656Z",
     "start_time": "2025-02-15T20:57:05.575159Z"
    }
   },
   "outputs": [],
   "source": [
    "# padded_vectors_average = np.mean(padded_vectors, axis=1)"
   ]
  },
  {
   "cell_type": "code",
   "execution_count": 22,
   "id": "9bef18ce8433a625",
   "metadata": {
    "ExecuteTime": {
     "end_time": "2025-02-15T20:57:05.597894Z",
     "start_time": "2025-02-15T20:57:05.584176Z"
    }
   },
   "outputs": [],
   "source": [
    "X_train, X_test, y_train, y_test = train_test_split(padded_vectors, df_original[\"Has opinion\"], test_size=0.2, random_state=1)"
   ]
  },
  {
   "cell_type": "code",
   "execution_count": 23,
   "id": "cc4212268a63eaf7",
   "metadata": {
    "ExecuteTime": {
     "end_time": "2025-02-15T20:57:05.693220Z",
     "start_time": "2025-02-15T20:57:05.689175Z"
    }
   },
   "outputs": [
    {
     "data": {
      "text/plain": [
       "(320, 26, 300)"
      ]
     },
     "execution_count": 23,
     "metadata": {},
     "output_type": "execute_result"
    }
   ],
   "source": [
    "X_train.shape"
   ]
  },
  {
   "cell_type": "code",
   "execution_count": 24,
   "id": "d14dfcbb8aec586f",
   "metadata": {
    "ExecuteTime": {
     "end_time": "2025-02-15T20:57:05.770565Z",
     "start_time": "2025-02-15T20:57:05.767874Z"
    }
   },
   "outputs": [
    {
     "name": "stdout",
     "output_type": "stream",
     "text": [
      "0.0: 165 occurences\n",
      "1.0: 155 occurences\n"
     ]
    }
   ],
   "source": [
    "unique_values, counts = np.unique(y_train, return_counts=True)\n",
    "\n",
    "for value, count in zip(unique_values, counts):\n",
    "    print(f\"{value}: {count} occurences\")"
   ]
  },
  {
   "cell_type": "code",
   "execution_count": 25,
   "id": "eb4cf15284ac4ca5",
   "metadata": {
    "ExecuteTime": {
     "end_time": "2025-02-15T20:57:19.704039Z",
     "start_time": "2025-02-15T20:57:05.924554Z"
    }
   },
   "outputs": [
    {
     "name": "stdout",
     "output_type": "stream",
     "text": [
      "Epoch 1/50\n"
     ]
    },
    {
     "name": "stderr",
     "output_type": "stream",
     "text": [
      "2025-02-15 22:25:04.108575: I tensorflow/core/grappler/optimizers/custom_graph_optimizer_registry.cc:117] Plugin optimizer for device_type GPU is enabled.\n"
     ]
    },
    {
     "name": "stdout",
     "output_type": "stream",
     "text": [
      "\u001b[1m10/10\u001b[0m \u001b[32m━━━━━━━━━━━━━━━━━━━━\u001b[0m\u001b[37m\u001b[0m \u001b[1m3s\u001b[0m 38ms/step - accuracy: 0.4437 - loss: 0.9071 - precision: 0.4159 - recall: 0.4421\n",
      "Epoch 2/50\n",
      "\u001b[1m10/10\u001b[0m \u001b[32m━━━━━━━━━━━━━━━━━━━━\u001b[0m\u001b[37m\u001b[0m \u001b[1m0s\u001b[0m 24ms/step - accuracy: 0.4983 - loss: 0.8704 - precision: 0.4656 - recall: 0.4850\n",
      "Epoch 3/50\n",
      "\u001b[1m10/10\u001b[0m \u001b[32m━━━━━━━━━━━━━━━━━━━━\u001b[0m\u001b[37m\u001b[0m \u001b[1m0s\u001b[0m 24ms/step - accuracy: 0.5625 - loss: 0.7547 - precision: 0.5365 - recall: 0.5185\n",
      "Epoch 4/50\n",
      "\u001b[1m10/10\u001b[0m \u001b[32m━━━━━━━━━━━━━━━━━━━━\u001b[0m\u001b[37m\u001b[0m \u001b[1m0s\u001b[0m 32ms/step - accuracy: 0.5678 - loss: 0.7718 - precision: 0.5397 - recall: 0.5283\n",
      "Epoch 5/50\n",
      "\u001b[1m10/10\u001b[0m \u001b[32m━━━━━━━━━━━━━━━━━━━━\u001b[0m\u001b[37m\u001b[0m \u001b[1m0s\u001b[0m 24ms/step - accuracy: 0.6476 - loss: 0.6510 - precision: 0.6176 - recall: 0.6526\n",
      "Epoch 6/50\n",
      "\u001b[1m10/10\u001b[0m \u001b[32m━━━━━━━━━━━━━━━━━━━━\u001b[0m\u001b[37m\u001b[0m \u001b[1m0s\u001b[0m 29ms/step - accuracy: 0.5914 - loss: 0.7054 - precision: 0.5654 - recall: 0.5669\n",
      "Epoch 7/50\n",
      "\u001b[1m10/10\u001b[0m \u001b[32m━━━━━━━━━━━━━━━━━━━━\u001b[0m\u001b[37m\u001b[0m \u001b[1m0s\u001b[0m 20ms/step - accuracy: 0.6504 - loss: 0.6508 - precision: 0.6273 - recall: 0.6204\n",
      "Epoch 8/50\n",
      "\u001b[1m10/10\u001b[0m \u001b[32m━━━━━━━━━━━━━━━━━━━━\u001b[0m\u001b[37m\u001b[0m \u001b[1m0s\u001b[0m 20ms/step - accuracy: 0.6325 - loss: 0.6624 - precision: 0.6057 - recall: 0.6338\n",
      "Epoch 9/50\n",
      "\u001b[1m10/10\u001b[0m \u001b[32m━━━━━━━━━━━━━━━━━━━━\u001b[0m\u001b[37m\u001b[0m \u001b[1m0s\u001b[0m 20ms/step - accuracy: 0.6797 - loss: 0.6305 - precision: 0.6473 - recall: 0.6906\n",
      "Epoch 10/50\n",
      "\u001b[1m10/10\u001b[0m \u001b[32m━━━━━━━━━━━━━━━━━━━━\u001b[0m\u001b[37m\u001b[0m \u001b[1m0s\u001b[0m 20ms/step - accuracy: 0.6968 - loss: 0.6206 - precision: 0.6836 - recall: 0.6599\n",
      "Epoch 11/50\n",
      "\u001b[1m10/10\u001b[0m \u001b[32m━━━━━━━━━━━━━━━━━━━━\u001b[0m\u001b[37m\u001b[0m \u001b[1m0s\u001b[0m 20ms/step - accuracy: 0.6682 - loss: 0.6070 - precision: 0.6545 - recall: 0.6245\n",
      "Epoch 12/50\n",
      "\u001b[1m10/10\u001b[0m \u001b[32m━━━━━━━━━━━━━━━━━━━━\u001b[0m\u001b[37m\u001b[0m \u001b[1m0s\u001b[0m 20ms/step - accuracy: 0.6606 - loss: 0.6330 - precision: 0.6468 - recall: 0.6112\n",
      "Epoch 13/50\n",
      "\u001b[1m10/10\u001b[0m \u001b[32m━━━━━━━━━━━━━━━━━━━━\u001b[0m\u001b[37m\u001b[0m \u001b[1m0s\u001b[0m 20ms/step - accuracy: 0.6827 - loss: 0.6134 - precision: 0.6672 - recall: 0.6496\n",
      "Epoch 14/50\n",
      "\u001b[1m10/10\u001b[0m \u001b[32m━━━━━━━━━━━━━━━━━━━━\u001b[0m\u001b[37m\u001b[0m \u001b[1m0s\u001b[0m 20ms/step - accuracy: 0.7516 - loss: 0.5190 - precision: 0.7403 - recall: 0.7263\n",
      "Epoch 15/50\n",
      "\u001b[1m10/10\u001b[0m \u001b[32m━━━━━━━━━━━━━━━━━━━━\u001b[0m\u001b[37m\u001b[0m \u001b[1m0s\u001b[0m 20ms/step - accuracy: 0.6790 - loss: 0.5518 - precision: 0.6552 - recall: 0.6606\n",
      "Epoch 16/50\n",
      "\u001b[1m10/10\u001b[0m \u001b[32m━━━━━━━━━━━━━━━━━━━━\u001b[0m\u001b[37m\u001b[0m \u001b[1m0s\u001b[0m 20ms/step - accuracy: 0.6763 - loss: 0.5734 - precision: 0.6594 - recall: 0.6445\n",
      "Epoch 17/50\n",
      "\u001b[1m10/10\u001b[0m \u001b[32m━━━━━━━━━━━━━━━━━━━━\u001b[0m\u001b[37m\u001b[0m \u001b[1m0s\u001b[0m 20ms/step - accuracy: 0.7329 - loss: 0.5626 - precision: 0.7380 - recall: 0.6691\n",
      "Epoch 18/50\n",
      "\u001b[1m10/10\u001b[0m \u001b[32m━━━━━━━━━━━━━━━━━━━━\u001b[0m\u001b[37m\u001b[0m \u001b[1m0s\u001b[0m 20ms/step - accuracy: 0.6862 - loss: 0.5932 - precision: 0.6708 - recall: 0.6438\n",
      "Epoch 19/50\n",
      "\u001b[1m10/10\u001b[0m \u001b[32m━━━━━━━━━━━━━━━━━━━━\u001b[0m\u001b[37m\u001b[0m \u001b[1m0s\u001b[0m 20ms/step - accuracy: 0.6988 - loss: 0.5625 - precision: 0.6903 - recall: 0.6533\n",
      "Epoch 20/50\n",
      "\u001b[1m10/10\u001b[0m \u001b[32m━━━━━━━━━━━━━━━━━━━━\u001b[0m\u001b[37m\u001b[0m \u001b[1m0s\u001b[0m 20ms/step - accuracy: 0.7559 - loss: 0.5066 - precision: 0.7270 - recall: 0.7657\n",
      "Epoch 21/50\n",
      "\u001b[1m10/10\u001b[0m \u001b[32m━━━━━━━━━━━━━━━━━━━━\u001b[0m\u001b[37m\u001b[0m \u001b[1m0s\u001b[0m 20ms/step - accuracy: 0.7552 - loss: 0.5187 - precision: 0.7509 - recall: 0.7149\n",
      "Epoch 22/50\n",
      "\u001b[1m10/10\u001b[0m \u001b[32m━━━━━━━━━━━━━━━━━━━━\u001b[0m\u001b[37m\u001b[0m \u001b[1m0s\u001b[0m 20ms/step - accuracy: 0.7772 - loss: 0.4472 - precision: 0.7636 - recall: 0.7657\n",
      "Epoch 23/50\n",
      "\u001b[1m10/10\u001b[0m \u001b[32m━━━━━━━━━━━━━━━━━━━━\u001b[0m\u001b[37m\u001b[0m \u001b[1m0s\u001b[0m 20ms/step - accuracy: 0.7255 - loss: 0.5018 - precision: 0.7170 - recall: 0.6876\n",
      "Epoch 24/50\n",
      "\u001b[1m10/10\u001b[0m \u001b[32m━━━━━━━━━━━━━━━━━━━━\u001b[0m\u001b[37m\u001b[0m \u001b[1m0s\u001b[0m 20ms/step - accuracy: 0.7780 - loss: 0.4726 - precision: 0.7565 - recall: 0.7819\n",
      "Epoch 25/50\n",
      "\u001b[1m10/10\u001b[0m \u001b[32m━━━━━━━━━━━━━━━━━━━━\u001b[0m\u001b[37m\u001b[0m \u001b[1m0s\u001b[0m 20ms/step - accuracy: 0.8036 - loss: 0.4816 - precision: 0.7966 - recall: 0.7870\n",
      "Epoch 26/50\n",
      "\u001b[1m10/10\u001b[0m \u001b[32m━━━━━━━━━━━━━━━━━━━━\u001b[0m\u001b[37m\u001b[0m \u001b[1m0s\u001b[0m 20ms/step - accuracy: 0.7871 - loss: 0.4266 - precision: 0.7825 - recall: 0.7565\n",
      "Epoch 27/50\n",
      "\u001b[1m10/10\u001b[0m \u001b[32m━━━━━━━━━━━━━━━━━━━━\u001b[0m\u001b[37m\u001b[0m \u001b[1m0s\u001b[0m 20ms/step - accuracy: 0.7782 - loss: 0.4631 - precision: 0.7568 - recall: 0.7784\n",
      "Epoch 28/50\n",
      "\u001b[1m10/10\u001b[0m \u001b[32m━━━━━━━━━━━━━━━━━━━━\u001b[0m\u001b[37m\u001b[0m \u001b[1m0s\u001b[0m 20ms/step - accuracy: 0.8052 - loss: 0.4265 - precision: 0.7741 - recall: 0.8285\n",
      "Epoch 29/50\n",
      "\u001b[1m10/10\u001b[0m \u001b[32m━━━━━━━━━━━━━━━━━━━━\u001b[0m\u001b[37m\u001b[0m \u001b[1m0s\u001b[0m 20ms/step - accuracy: 0.7799 - loss: 0.4743 - precision: 0.7640 - recall: 0.7674\n",
      "Epoch 30/50\n",
      "\u001b[1m10/10\u001b[0m \u001b[32m━━━━━━━━━━━━━━━━━━━━\u001b[0m\u001b[37m\u001b[0m \u001b[1m0s\u001b[0m 20ms/step - accuracy: 0.7852 - loss: 0.4410 - precision: 0.7627 - recall: 0.7825\n",
      "Epoch 31/50\n",
      "\u001b[1m10/10\u001b[0m \u001b[32m━━━━━━━━━━━━━━━━━━━━\u001b[0m\u001b[37m\u001b[0m \u001b[1m0s\u001b[0m 20ms/step - accuracy: 0.8636 - loss: 0.3530 - precision: 0.8521 - recall: 0.8639\n",
      "Epoch 32/50\n",
      "\u001b[1m10/10\u001b[0m \u001b[32m━━━━━━━━━━━━━━━━━━━━\u001b[0m\u001b[37m\u001b[0m \u001b[1m0s\u001b[0m 20ms/step - accuracy: 0.8898 - loss: 0.3383 - precision: 0.8845 - recall: 0.8827\n",
      "Epoch 33/50\n",
      "\u001b[1m10/10\u001b[0m \u001b[32m━━━━━━━━━━━━━━━━━━━━\u001b[0m\u001b[37m\u001b[0m \u001b[1m0s\u001b[0m 20ms/step - accuracy: 0.8391 - loss: 0.3621 - precision: 0.8252 - recall: 0.8347\n",
      "Epoch 34/50\n",
      "\u001b[1m10/10\u001b[0m \u001b[32m━━━━━━━━━━━━━━━━━━━━\u001b[0m\u001b[37m\u001b[0m \u001b[1m0s\u001b[0m 20ms/step - accuracy: 0.8369 - loss: 0.3515 - precision: 0.8352 - recall: 0.8141\n",
      "Epoch 35/50\n",
      "\u001b[1m10/10\u001b[0m \u001b[32m━━━━━━━━━━━━━━━━━━━━\u001b[0m\u001b[37m\u001b[0m \u001b[1m0s\u001b[0m 20ms/step - accuracy: 0.8977 - loss: 0.3061 - precision: 0.9010 - recall: 0.8805\n",
      "Epoch 36/50\n",
      "\u001b[1m10/10\u001b[0m \u001b[32m━━━━━━━━━━━━━━━━━━━━\u001b[0m\u001b[37m\u001b[0m \u001b[1m0s\u001b[0m 20ms/step - accuracy: 0.8883 - loss: 0.2947 - precision: 0.8855 - recall: 0.8771\n",
      "Epoch 37/50\n",
      "\u001b[1m10/10\u001b[0m \u001b[32m━━━━━━━━━━━━━━━━━━━━\u001b[0m\u001b[37m\u001b[0m \u001b[1m0s\u001b[0m 20ms/step - accuracy: 0.9045 - loss: 0.3045 - precision: 0.9046 - recall: 0.8933\n",
      "Epoch 38/50\n",
      "\u001b[1m10/10\u001b[0m \u001b[32m━━━━━━━━━━━━━━━━━━━━\u001b[0m\u001b[37m\u001b[0m \u001b[1m0s\u001b[0m 20ms/step - accuracy: 0.8876 - loss: 0.2879 - precision: 0.8818 - recall: 0.8817\n",
      "Epoch 39/50\n",
      "\u001b[1m10/10\u001b[0m \u001b[32m━━━━━━━━━━━━━━━━━━━━\u001b[0m\u001b[37m\u001b[0m \u001b[1m0s\u001b[0m 20ms/step - accuracy: 0.8600 - loss: 0.3322 - precision: 0.8426 - recall: 0.8634\n",
      "Epoch 40/50\n",
      "\u001b[1m10/10\u001b[0m \u001b[32m━━━━━━━━━━━━━━━━━━━━\u001b[0m\u001b[37m\u001b[0m \u001b[1m0s\u001b[0m 20ms/step - accuracy: 0.8579 - loss: 0.3279 - precision: 0.8574 - recall: 0.8372\n",
      "Epoch 41/50\n",
      "\u001b[1m10/10\u001b[0m \u001b[32m━━━━━━━━━━━━━━━━━━━━\u001b[0m\u001b[37m\u001b[0m \u001b[1m0s\u001b[0m 20ms/step - accuracy: 0.8970 - loss: 0.2973 - precision: 0.8922 - recall: 0.8876\n",
      "Epoch 42/50\n",
      "\u001b[1m10/10\u001b[0m \u001b[32m━━━━━━━━━━━━━━━━━━━━\u001b[0m\u001b[37m\u001b[0m \u001b[1m0s\u001b[0m 20ms/step - accuracy: 0.8796 - loss: 0.2712 - precision: 0.8354 - recall: 0.9264\n",
      "Epoch 43/50\n",
      "\u001b[1m10/10\u001b[0m \u001b[32m━━━━━━━━━━━━━━━━━━━━\u001b[0m\u001b[37m\u001b[0m \u001b[1m0s\u001b[0m 20ms/step - accuracy: 0.8970 - loss: 0.2730 - precision: 0.8742 - recall: 0.9112\n",
      "Epoch 44/50\n",
      "\u001b[1m10/10\u001b[0m \u001b[32m━━━━━━━━━━━━━━━━━━━━\u001b[0m\u001b[37m\u001b[0m \u001b[1m0s\u001b[0m 20ms/step - accuracy: 0.9354 - loss: 0.2317 - precision: 0.9345 - recall: 0.9271\n",
      "Epoch 45/50\n",
      "\u001b[1m10/10\u001b[0m \u001b[32m━━━━━━━━━━━━━━━━━━━━\u001b[0m\u001b[37m\u001b[0m \u001b[1m0s\u001b[0m 20ms/step - accuracy: 0.9038 - loss: 0.2893 - precision: 0.9047 - recall: 0.8907\n",
      "Epoch 46/50\n",
      "\u001b[1m10/10\u001b[0m \u001b[32m━━━━━━━━━━━━━━━━━━━━\u001b[0m\u001b[37m\u001b[0m \u001b[1m0s\u001b[0m 20ms/step - accuracy: 0.8762 - loss: 0.2718 - precision: 0.8608 - recall: 0.8804\n",
      "Epoch 47/50\n",
      "\u001b[1m10/10\u001b[0m \u001b[32m━━━━━━━━━━━━━━━━━━━━\u001b[0m\u001b[37m\u001b[0m \u001b[1m0s\u001b[0m 20ms/step - accuracy: 0.9240 - loss: 0.2200 - precision: 0.9122 - recall: 0.9285\n",
      "Epoch 48/50\n",
      "\u001b[1m10/10\u001b[0m \u001b[32m━━━━━━━━━━━━━━━━━━━━\u001b[0m\u001b[37m\u001b[0m \u001b[1m0s\u001b[0m 20ms/step - accuracy: 0.9168 - loss: 0.2539 - precision: 0.9193 - recall: 0.9021\n",
      "Epoch 49/50\n",
      "\u001b[1m10/10\u001b[0m \u001b[32m━━━━━━━━━━━━━━━━━━━━\u001b[0m\u001b[37m\u001b[0m \u001b[1m0s\u001b[0m 20ms/step - accuracy: 0.9102 - loss: 0.2242 - precision: 0.9234 - recall: 0.8820\n",
      "Epoch 50/50\n",
      "\u001b[1m10/10\u001b[0m \u001b[32m━━━━━━━━━━━━━━━━━━━━\u001b[0m\u001b[37m\u001b[0m \u001b[1m0s\u001b[0m 20ms/step - accuracy: 0.9248 - loss: 0.2425 - precision: 0.9224 - recall: 0.9181\n"
     ]
    }
   ],
   "source": [
    "history = model.fit(x=X_train, y=y_train, epochs=50)"
   ]
  },
  {
   "cell_type": "code",
   "execution_count": 26,
   "id": "1fe56ff05dbeaba7",
   "metadata": {
    "ExecuteTime": {
     "end_time": "2025-02-15T20:57:21.307290Z",
     "start_time": "2025-02-15T20:57:21.303889Z"
    }
   },
   "outputs": [
    {
     "data": {
      "text/plain": [
       "{'accuracy': [0.46875,\n",
       "  0.49687498807907104,\n",
       "  0.578125,\n",
       "  0.5687500238418579,\n",
       "  0.6625000238418579,\n",
       "  0.6156250238418579,\n",
       "  0.671875,\n",
       "  0.640625,\n",
       "  0.668749988079071,\n",
       "  0.6781250238418579,\n",
       "  0.671875,\n",
       "  0.6625000238418579,\n",
       "  0.706250011920929,\n",
       "  0.737500011920929,\n",
       "  0.6781250238418579,\n",
       "  0.6968749761581421,\n",
       "  0.706250011920929,\n",
       "  0.6968749761581421,\n",
       "  0.7250000238418579,\n",
       "  0.753125011920929,\n",
       "  0.75,\n",
       "  0.746874988079071,\n",
       "  0.699999988079071,\n",
       "  0.778124988079071,\n",
       "  0.784375011920929,\n",
       "  0.784375011920929,\n",
       "  0.78125,\n",
       "  0.796875,\n",
       "  0.778124988079071,\n",
       "  0.809374988079071,\n",
       "  0.84375,\n",
       "  0.8656250238418579,\n",
       "  0.828125,\n",
       "  0.840624988079071,\n",
       "  0.871874988079071,\n",
       "  0.856249988079071,\n",
       "  0.8812500238418579,\n",
       "  0.875,\n",
       "  0.8531249761581421,\n",
       "  0.862500011920929,\n",
       "  0.887499988079071,\n",
       "  0.878125011920929,\n",
       "  0.893750011920929,\n",
       "  0.918749988079071,\n",
       "  0.890625,\n",
       "  0.8500000238418579,\n",
       "  0.9125000238418579,\n",
       "  0.9125000238418579,\n",
       "  0.90625,\n",
       "  0.9125000238418579],\n",
       " 'loss': [0.8836943507194519,\n",
       "  0.8737249374389648,\n",
       "  0.7337715029716492,\n",
       "  0.7845252752304077,\n",
       "  0.6476889252662659,\n",
       "  0.6814202070236206,\n",
       "  0.652908444404602,\n",
       "  0.6751599907875061,\n",
       "  0.6497694253921509,\n",
       "  0.6403773427009583,\n",
       "  0.6312422156333923,\n",
       "  0.6153768301010132,\n",
       "  0.5964857935905457,\n",
       "  0.5426355600357056,\n",
       "  0.5782402157783508,\n",
       "  0.5662991404533386,\n",
       "  0.5967901349067688,\n",
       "  0.5882591009140015,\n",
       "  0.5482808351516724,\n",
       "  0.5213947892189026,\n",
       "  0.5103033781051636,\n",
       "  0.49006637930870056,\n",
       "  0.5210572481155396,\n",
       "  0.4698518216609955,\n",
       "  0.485368549823761,\n",
       "  0.4401111602783203,\n",
       "  0.45210638642311096,\n",
       "  0.4590844213962555,\n",
       "  0.4680802822113037,\n",
       "  0.42708712816238403,\n",
       "  0.39161786437034607,\n",
       "  0.3650120198726654,\n",
       "  0.3899450898170471,\n",
       "  0.3568897843360901,\n",
       "  0.3428037464618683,\n",
       "  0.3368343114852905,\n",
       "  0.3175029754638672,\n",
       "  0.3045358657836914,\n",
       "  0.3449997007846832,\n",
       "  0.3402251601219177,\n",
       "  0.30375048518180847,\n",
       "  0.2921449542045593,\n",
       "  0.2673371434211731,\n",
       "  0.2503458857536316,\n",
       "  0.31147080659866333,\n",
       "  0.3002501130104065,\n",
       "  0.23510178923606873,\n",
       "  0.24774527549743652,\n",
       "  0.24310532212257385,\n",
       "  0.24606435000896454],\n",
       " 'precision': [0.4516128897666931,\n",
       "  0.4810126721858978,\n",
       "  0.5714285969734192,\n",
       "  0.556291401386261,\n",
       "  0.6496815085411072,\n",
       "  0.6095890402793884,\n",
       "  0.6689189076423645,\n",
       "  0.6333333253860474,\n",
       "  0.6580645442008972,\n",
       "  0.6857143044471741,\n",
       "  0.6785714030265808,\n",
       "  0.6690647602081299,\n",
       "  0.7103448510169983,\n",
       "  0.7414966225624084,\n",
       "  0.6666666865348816,\n",
       "  0.7042253613471985,\n",
       "  0.7226277589797974,\n",
       "  0.6933333277702332,\n",
       "  0.7248322367668152,\n",
       "  0.7435897588729858,\n",
       "  0.7586206793785095,\n",
       "  0.7534246444702148,\n",
       "  0.7062937021255493,\n",
       "  0.7837837934494019,\n",
       "  0.7866666913032532,\n",
       "  0.7986111044883728,\n",
       "  0.774193525314331,\n",
       "  0.7884615659713745,\n",
       "  0.7799999713897705,\n",
       "  0.8092105388641357,\n",
       "  0.8571428656578064,\n",
       "  0.8733333349227905,\n",
       "  0.837837815284729,\n",
       "  0.8513513803482056,\n",
       "  0.8958333134651184,\n",
       "  0.860927164554596,\n",
       "  0.887417197227478,\n",
       "  0.8859060406684875,\n",
       "  0.850649356842041,\n",
       "  0.8724831938743591,\n",
       "  0.8940397500991821,\n",
       "  0.8580247163772583,\n",
       "  0.8853503465652466,\n",
       "  0.9161290526390076,\n",
       "  0.8947368264198303,\n",
       "  0.8590604066848755,\n",
       "  0.915032684803009,\n",
       "  0.9205297827720642,\n",
       "  0.9251700639724731,\n",
       "  0.926174521446228],\n",
       " 'recall': [0.4516128897666931,\n",
       "  0.4903225898742676,\n",
       "  0.5161290168762207,\n",
       "  0.5419355034828186,\n",
       "  0.6580645442008972,\n",
       "  0.57419353723526,\n",
       "  0.6387096643447876,\n",
       "  0.6129032373428345,\n",
       "  0.6580645442008972,\n",
       "  0.6193548440933228,\n",
       "  0.6129032373428345,\n",
       "  0.6000000238418579,\n",
       "  0.6645161509513855,\n",
       "  0.7032257914543152,\n",
       "  0.6709677577018738,\n",
       "  0.6451612710952759,\n",
       "  0.6387096643447876,\n",
       "  0.6709677577018738,\n",
       "  0.6967741847038269,\n",
       "  0.7483870983123779,\n",
       "  0.7096773982048035,\n",
       "  0.7096773982048035,\n",
       "  0.6516128778457642,\n",
       "  0.7483870983123779,\n",
       "  0.7612903118133545,\n",
       "  0.7419354915618896,\n",
       "  0.774193525314331,\n",
       "  0.7935484051704407,\n",
       "  0.7548387050628662,\n",
       "  0.7935484051704407,\n",
       "  0.8129032254219055,\n",
       "  0.8451613187789917,\n",
       "  0.800000011920929,\n",
       "  0.8129032254219055,\n",
       "  0.8322580456733704,\n",
       "  0.8387096524238586,\n",
       "  0.8645161390304565,\n",
       "  0.85161292552948,\n",
       "  0.8451613187789917,\n",
       "  0.8387096524238586,\n",
       "  0.8709677457809448,\n",
       "  0.896774172782898,\n",
       "  0.896774172782898,\n",
       "  0.9161290526390076,\n",
       "  0.8774193525314331,\n",
       "  0.8258064389228821,\n",
       "  0.9032257795333862,\n",
       "  0.896774172782898,\n",
       "  0.8774193525314331,\n",
       "  0.8903225660324097]}"
      ]
     },
     "execution_count": 26,
     "metadata": {},
     "output_type": "execute_result"
    }
   ],
   "source": [
    "history.history"
   ]
  },
  {
   "cell_type": "code",
   "execution_count": 27,
   "id": "df8790a127a4cb86",
   "metadata": {
    "ExecuteTime": {
     "end_time": "2025-02-15T20:57:21.483849Z",
     "start_time": "2025-02-15T20:57:21.381913Z"
    }
   },
   "outputs": [],
   "source": [
    "model.save(\"models/opinion_detection_original.keras\")"
   ]
  },
  {
   "cell_type": "code",
   "execution_count": 28,
   "id": "c7e99605cf3219b6",
   "metadata": {
    "ExecuteTime": {
     "end_time": "2025-02-15T20:57:21.639878Z",
     "start_time": "2025-02-15T20:57:21.496649Z"
    }
   },
   "outputs": [
    {
     "data": {
      "text/plain": [
       "Text(0.5, 0, 'epoch')"
      ]
     },
     "execution_count": 28,
     "metadata": {},
     "output_type": "execute_result"
    },
    {
     "data": {
      "image/png": "[encoded data removed]",
      "text/plain": [
       "<Figure size 640x480 with 1 Axes>"
      ]
     },
     "metadata": {},
     "output_type": "display_data"
    }
   ],
   "source": [
    "plt.plot(history.history['accuracy'])\n",
    "plt.title('model accuracy')\n",
    "plt.ylabel('accuracy')\n",
    "plt.xlabel('epoch')"
   ]
  },
  {
   "cell_type": "code",
   "execution_count": 29,
   "id": "8c68c10f1ad4c59e",
   "metadata": {
    "ExecuteTime": {
     "end_time": "2025-02-15T20:57:21.715294Z",
     "start_time": "2025-02-15T20:57:21.659799Z"
    }
   },
   "outputs": [
    {
     "data": {
      "text/plain": [
       "Text(0.5, 0, 'epoch')"
      ]
     },
     "execution_count": 29,
     "metadata": {},
     "output_type": "execute_result"
    },
    {
     "data": {
      "image/png": "[encoded data removed]",
      "text/plain": [
       "<Figure size 640x480 with 1 Axes>"
      ]
     },
     "metadata": {},
     "output_type": "display_data"
    }
   ],
   "source": [
    "plt.plot(history.history['precision'])\n",
    "plt.title('model precision')\n",
    "plt.ylabel('precision')\n",
    "plt.xlabel('epoch')"
   ]
  },
  {
   "cell_type": "code",
   "execution_count": 30,
   "id": "45765ac8b328e7fa",
   "metadata": {
    "ExecuteTime": {
     "end_time": "2025-02-15T20:57:21.773570Z",
     "start_time": "2025-02-15T20:57:21.718326Z"
    }
   },
   "outputs": [
    {
     "data": {
      "text/plain": [
       "Text(0.5, 0, 'epoch')"
      ]
     },
     "execution_count": 30,
     "metadata": {},
     "output_type": "execute_result"
    },
    {
     "data": {
      "image/png": "[encoded data removed]",
      "text/plain": [
       "<Figure size 640x480 with 1 Axes>"
      ]
     },
     "metadata": {},
     "output_type": "display_data"
    }
   ],
   "source": [
    "plt.plot(history.history['recall'])\n",
    "plt.title('model recall')\n",
    "plt.ylabel('recall')\n",
    "plt.xlabel('epoch')"
   ]
  },
  {
   "cell_type": "code",
   "execution_count": 31,
   "id": "38714157b2e83e5b",
   "metadata": {
    "ExecuteTime": {
     "end_time": "2025-02-15T20:57:21.889355Z",
     "start_time": "2025-02-15T20:57:21.792662Z"
    }
   },
   "outputs": [
    {
     "data": {
      "text/plain": [
       "Text(0.5, 0, 'epoch')"
      ]
     },
     "execution_count": 31,
     "metadata": {},
     "output_type": "execute_result"
    },
    {
     "data": {
      "image/png": "[encoded data removed]",
      "text/plain": [
       "<Figure size 640x480 with 1 Axes>"
      ]
     },
     "metadata": {},
     "output_type": "display_data"
    }
   ],
   "source": [
    "plt.plot(history.history['loss'])\n",
    "plt.title('model loss')\n",
    "plt.ylabel('loss')\n",
    "plt.xlabel('epoch')"
   ]
  },
  {
   "cell_type": "code",
   "execution_count": 32,
   "id": "a720201e2ca8243a",
   "metadata": {
    "ExecuteTime": {
     "end_time": "2025-02-15T20:57:32.622202Z",
     "start_time": "2025-02-15T20:57:32.548686Z"
    }
   },
   "outputs": [
    {
     "name": "stdout",
     "output_type": "stream",
     "text": [
      "\u001b[1m3/3\u001b[0m \u001b[32m━━━━━━━━━━━━━━━━━━━━\u001b[0m\u001b[37m\u001b[0m \u001b[1m1s\u001b[0m 71ms/step - accuracy: 0.6172 - loss: 0.7549 - precision: 0.5257 - recall: 0.6485\n"
     ]
    }
   ],
   "source": [
    "evaluation = model.evaluate(X_test, y_test)"
   ]
  },
  {
   "cell_type": "code",
   "execution_count": 33,
   "id": "3c76e72c66107d5e",
   "metadata": {
    "ExecuteTime": {
     "end_time": "2025-02-15T20:57:35.048846Z",
     "start_time": "2025-02-15T20:57:35.045772Z"
    }
   },
   "outputs": [
    {
     "name": "stdout",
     "output_type": "stream",
     "text": [
      "Loss: 0.7572852969169617, accuracy: 0.625\n"
     ]
    }
   ],
   "source": [
    "print(f'Loss: {evaluation[0]}, accuracy: {evaluation[1]}')"
   ]
  },
  {
   "cell_type": "code",
   "execution_count": 34,
   "id": "e8369dedda6cb1fe",
   "metadata": {
    "ExecuteTime": {
     "end_time": "2025-02-15T20:57:22.586463Z",
     "start_time": "2025-02-15T20:57:22.348796Z"
    }
   },
   "outputs": [
    {
     "name": "stdout",
     "output_type": "stream",
     "text": [
      "\u001b[1m3/3\u001b[0m \u001b[32m━━━━━━━━━━━━━━━━━━━━\u001b[0m\u001b[37m\u001b[0m \u001b[1m0s\u001b[0m 56ms/step\n"
     ]
    },
    {
     "data": {
      "text/plain": [
       "<sklearn.metrics._plot.confusion_matrix.ConfusionMatrixDisplay at 0x3062dfad0>"
      ]
     },
     "execution_count": 34,
     "metadata": {},
     "output_type": "execute_result"
    },
    {
     "data": {
      "image/png": "[encoded data removed]",
      "text/plain": [
       "<Figure size 640x480 with 2 Axes>"
      ]
     },
     "metadata": {},
     "output_type": "display_data"
    }
   ],
   "source": [
    "y_pred = (model.predict(X_test) > 0.5).astype(int)\n",
    "matrix = confusion_matrix(y_test, y_pred)\n",
    "\n",
    "display = ConfusionMatrixDisplay(matrix)\n",
    "display.plot()"
   ]
  },
  {
   "cell_type": "code",
   "execution_count": 35,
   "id": "5de5265f78e9a24f",
   "metadata": {
    "ExecuteTime": {
     "end_time": "2025-02-15T20:57:22.655253Z",
     "start_time": "2025-02-15T20:57:22.597173Z"
    }
   },
   "outputs": [
    {
     "data": {
      "text/html": [
       "<pre style=\"white-space:pre;overflow-x:auto;line-height:normal;font-family:Menlo,'DejaVu Sans Mono',consolas,'Courier New',monospace\"><span style=\"font-weight: bold\">Model: \"sequential_3\"</span>\n",
       "</pre>\n"
      ],
      "text/plain": [
       "\u001b[1mModel: \"sequential_3\"\u001b[0m\n"
      ]
     },
     "metadata": {},
     "output_type": "display_data"
    },
    {
     "data": {
      "text/html": [
       "<pre style=\"white-space:pre;overflow-x:auto;line-height:normal;font-family:Menlo,'DejaVu Sans Mono',consolas,'Courier New',monospace\">┏━━━━━━━━━━━━━━━━━━━━━━━━━━━━━━━━━┳━━━━━━━━━━━━━━━━━━━━━━━━┳━━━━━━━━━━━━━━━┓\n",
       "┃<span style=\"font-weight: bold\"> Layer (type)                    </span>┃<span style=\"font-weight: bold\"> Output Shape           </span>┃<span style=\"font-weight: bold\">       Param # </span>┃\n",
       "┡━━━━━━━━━━━━━━━━━━━━━━━━━━━━━━━━━╇━━━━━━━━━━━━━━━━━━━━━━━━╇━━━━━━━━━━━━━━━┩\n",
       "│ flatten_3 (<span style=\"color: #0087ff; text-decoration-color: #0087ff\">Flatten</span>)             │ (<span style=\"color: #00d7ff; text-decoration-color: #00d7ff\">None</span>, <span style=\"color: #00af00; text-decoration-color: #00af00\">7800</span>)           │             <span style=\"color: #00af00; text-decoration-color: #00af00\">0</span> │\n",
       "├─────────────────────────────────┼────────────────────────┼───────────────┤\n",
       "│ layer_1 (<span style=\"color: #0087ff; text-decoration-color: #0087ff\">Dense</span>)                 │ (<span style=\"color: #00d7ff; text-decoration-color: #00d7ff\">None</span>, <span style=\"color: #00af00; text-decoration-color: #00af00\">200</span>)            │     <span style=\"color: #00af00; text-decoration-color: #00af00\">1,560,200</span> │\n",
       "├─────────────────────────────────┼────────────────────────┼───────────────┤\n",
       "│ dropout_3 (<span style=\"color: #0087ff; text-decoration-color: #0087ff\">Dropout</span>)             │ (<span style=\"color: #00d7ff; text-decoration-color: #00d7ff\">None</span>, <span style=\"color: #00af00; text-decoration-color: #00af00\">200</span>)            │             <span style=\"color: #00af00; text-decoration-color: #00af00\">0</span> │\n",
       "├─────────────────────────────────┼────────────────────────┼───────────────┤\n",
       "│ batch_normalization_3           │ (<span style=\"color: #00d7ff; text-decoration-color: #00d7ff\">None</span>, <span style=\"color: #00af00; text-decoration-color: #00af00\">200</span>)            │           <span style=\"color: #00af00; text-decoration-color: #00af00\">800</span> │\n",
       "│ (<span style=\"color: #0087ff; text-decoration-color: #0087ff\">BatchNormalization</span>)            │                        │               │\n",
       "├─────────────────────────────────┼────────────────────────┼───────────────┤\n",
       "│ layer_2 (<span style=\"color: #0087ff; text-decoration-color: #0087ff\">Dense</span>)                 │ (<span style=\"color: #00d7ff; text-decoration-color: #00d7ff\">None</span>, <span style=\"color: #00af00; text-decoration-color: #00af00\">100</span>)            │        <span style=\"color: #00af00; text-decoration-color: #00af00\">20,100</span> │\n",
       "├─────────────────────────────────┼────────────────────────┼───────────────┤\n",
       "│ dropout_4 (<span style=\"color: #0087ff; text-decoration-color: #0087ff\">Dropout</span>)             │ (<span style=\"color: #00d7ff; text-decoration-color: #00d7ff\">None</span>, <span style=\"color: #00af00; text-decoration-color: #00af00\">100</span>)            │             <span style=\"color: #00af00; text-decoration-color: #00af00\">0</span> │\n",
       "├─────────────────────────────────┼────────────────────────┼───────────────┤\n",
       "│ batch_normalization_4           │ (<span style=\"color: #00d7ff; text-decoration-color: #00d7ff\">None</span>, <span style=\"color: #00af00; text-decoration-color: #00af00\">100</span>)            │           <span style=\"color: #00af00; text-decoration-color: #00af00\">400</span> │\n",
       "│ (<span style=\"color: #0087ff; text-decoration-color: #0087ff\">BatchNormalization</span>)            │                        │               │\n",
       "├─────────────────────────────────┼────────────────────────┼───────────────┤\n",
       "│ opinion (<span style=\"color: #0087ff; text-decoration-color: #0087ff\">Dense</span>)                 │ (<span style=\"color: #00d7ff; text-decoration-color: #00d7ff\">None</span>, <span style=\"color: #00af00; text-decoration-color: #00af00\">1</span>)              │           <span style=\"color: #00af00; text-decoration-color: #00af00\">101</span> │\n",
       "└─────────────────────────────────┴────────────────────────┴───────────────┘\n",
       "</pre>\n"
      ],
      "text/plain": [
       "┏━━━━━━━━━━━━━━━━━━━━━━━━━━━━━━━━━┳━━━━━━━━━━━━━━━━━━━━━━━━┳━━━━━━━━━━━━━━━┓\n",
       "┃\u001b[1m \u001b[0m\u001b[1mLayer (type)                   \u001b[0m\u001b[1m \u001b[0m┃\u001b[1m \u001b[0m\u001b[1mOutput Shape          \u001b[0m\u001b[1m \u001b[0m┃\u001b[1m \u001b[0m\u001b[1m      Param #\u001b[0m\u001b[1m \u001b[0m┃\n",
       "┡━━━━━━━━━━━━━━━━━━━━━━━━━━━━━━━━━╇━━━━━━━━━━━━━━━━━━━━━━━━╇━━━━━━━━━━━━━━━┩\n",
       "│ flatten_3 (\u001b[38;5;33mFlatten\u001b[0m)             │ (\u001b[38;5;45mNone\u001b[0m, \u001b[38;5;34m7800\u001b[0m)           │             \u001b[38;5;34m0\u001b[0m │\n",
       "├─────────────────────────────────┼────────────────────────┼───────────────┤\n",
       "│ layer_1 (\u001b[38;5;33mDense\u001b[0m)                 │ (\u001b[38;5;45mNone\u001b[0m, \u001b[38;5;34m200\u001b[0m)            │     \u001b[38;5;34m1,560,200\u001b[0m │\n",
       "├─────────────────────────────────┼────────────────────────┼───────────────┤\n",
       "│ dropout_3 (\u001b[38;5;33mDropout\u001b[0m)             │ (\u001b[38;5;45mNone\u001b[0m, \u001b[38;5;34m200\u001b[0m)            │             \u001b[38;5;34m0\u001b[0m │\n",
       "├─────────────────────────────────┼────────────────────────┼───────────────┤\n",
       "│ batch_normalization_3           │ (\u001b[38;5;45mNone\u001b[0m, \u001b[38;5;34m200\u001b[0m)            │           \u001b[38;5;34m800\u001b[0m │\n",
       "│ (\u001b[38;5;33mBatchNormalization\u001b[0m)            │                        │               │\n",
       "├─────────────────────────────────┼────────────────────────┼───────────────┤\n",
       "│ layer_2 (\u001b[38;5;33mDense\u001b[0m)                 │ (\u001b[38;5;45mNone\u001b[0m, \u001b[38;5;34m100\u001b[0m)            │        \u001b[38;5;34m20,100\u001b[0m │\n",
       "├─────────────────────────────────┼────────────────────────┼───────────────┤\n",
       "│ dropout_4 (\u001b[38;5;33mDropout\u001b[0m)             │ (\u001b[38;5;45mNone\u001b[0m, \u001b[38;5;34m100\u001b[0m)            │             \u001b[38;5;34m0\u001b[0m │\n",
       "├─────────────────────────────────┼────────────────────────┼───────────────┤\n",
       "│ batch_normalization_4           │ (\u001b[38;5;45mNone\u001b[0m, \u001b[38;5;34m100\u001b[0m)            │           \u001b[38;5;34m400\u001b[0m │\n",
       "│ (\u001b[38;5;33mBatchNormalization\u001b[0m)            │                        │               │\n",
       "├─────────────────────────────────┼────────────────────────┼───────────────┤\n",
       "│ opinion (\u001b[38;5;33mDense\u001b[0m)                 │ (\u001b[38;5;45mNone\u001b[0m, \u001b[38;5;34m1\u001b[0m)              │           \u001b[38;5;34m101\u001b[0m │\n",
       "└─────────────────────────────────┴────────────────────────┴───────────────┘\n"
      ]
     },
     "metadata": {},
     "output_type": "display_data"
    },
    {
     "data": {
      "text/html": [
       "<pre style=\"white-space:pre;overflow-x:auto;line-height:normal;font-family:Menlo,'DejaVu Sans Mono',consolas,'Courier New',monospace\"><span style=\"font-weight: bold\"> Total params: </span><span style=\"color: #00af00; text-decoration-color: #00af00\">1,581,601</span> (6.03 MB)\n",
       "</pre>\n"
      ],
      "text/plain": [
       "\u001b[1m Total params: \u001b[0m\u001b[38;5;34m1,581,601\u001b[0m (6.03 MB)\n"
      ]
     },
     "metadata": {},
     "output_type": "display_data"
    },
    {
     "data": {
      "text/html": [
       "<pre style=\"white-space:pre;overflow-x:auto;line-height:normal;font-family:Menlo,'DejaVu Sans Mono',consolas,'Courier New',monospace\"><span style=\"font-weight: bold\"> Trainable params: </span><span style=\"color: #00af00; text-decoration-color: #00af00\">1,581,001</span> (6.03 MB)\n",
       "</pre>\n"
      ],
      "text/plain": [
       "\u001b[1m Trainable params: \u001b[0m\u001b[38;5;34m1,581,001\u001b[0m (6.03 MB)\n"
      ]
     },
     "metadata": {},
     "output_type": "display_data"
    },
    {
     "data": {
      "text/html": [
       "<pre style=\"white-space:pre;overflow-x:auto;line-height:normal;font-family:Menlo,'DejaVu Sans Mono',consolas,'Courier New',monospace\"><span style=\"font-weight: bold\"> Non-trainable params: </span><span style=\"color: #00af00; text-decoration-color: #00af00\">600</span> (2.34 KB)\n",
       "</pre>\n"
      ],
      "text/plain": [
       "\u001b[1m Non-trainable params: \u001b[0m\u001b[38;5;34m600\u001b[0m (2.34 KB)\n"
      ]
     },
     "metadata": {},
     "output_type": "display_data"
    }
   ],
   "source": [
    "model = models.Sequential()\n",
    "\n",
    "model.add(layers.Input(shape=(26, 300), name=\"Domain_1\"))\n",
    "\n",
    "model.add(layers.Flatten())\n",
    "\n",
    "model.add(layers.Dense(200, activation='relu', name=\"layer_1\"))\n",
    "\n",
    "model.add(layers.Dropout(0.8, name=\"dropout_3\"))\n",
    "\n",
    "model.add(layers.BatchNormalization(name=\"batch_normalization_3\"))\n",
    "\n",
    "model.add(layers.Dense(100, activation='relu', name=\"layer_2\"))\n",
    "\n",
    "model.add(layers.Dropout(0.8, name=\"dropout_4\"))\n",
    "\n",
    "model.add(layers.BatchNormalization(name=\"batch_normalization_4\"))\n",
    "\n",
    "model.add(layers.Dense(1, activation='sigmoid', name=\"opinion\"))\n",
    "\n",
    "model.compile(\n",
    "    optimizer='adam',\n",
    "    loss='binary_crossentropy',\n",
    "    metrics=['accuracy']\n",
    ")\n",
    "\n",
    "model.summary()"
   ]
  },
  {
   "cell_type": "code",
   "execution_count": 36,
   "id": "abf27427aa1f8e60",
   "metadata": {
    "ExecuteTime": {
     "end_time": "2025-02-15T20:57:22.756037Z",
     "start_time": "2025-02-15T20:57:22.666484Z"
    }
   },
   "outputs": [
    {
     "name": "stdout",
     "output_type": "stream",
     "text": [
      "<class 'pandas.core.frame.DataFrame'>\n",
      "Index: 7491 entries, 400 to 7890\n",
      "Data columns (total 6 columns):\n",
      " #   Column         Non-Null Count  Dtype  \n",
      "---  ------         --------------  -----  \n",
      " 0   text           7491 non-null   object \n",
      " 1   Sentiment      0 non-null      float64\n",
      " 2   Has opinion    0 non-null      float64\n",
      " 3   cleaned_text   7486 non-null   object \n",
      " 4   word_vectors   7491 non-null   object \n",
      " 5   glove_vectors  7491 non-null   object \n",
      "dtypes: float64(2), object(4)\n",
      "memory usage: 409.7+ KB\n"
     ]
    }
   ],
   "source": [
    "df_with_unlabeled.info()"
   ]
  },
  {
   "cell_type": "code",
   "execution_count": 37,
   "id": "5b51cd1f0e64a364",
   "metadata": {
    "ExecuteTime": {
     "end_time": "2025-02-15T20:57:22.910013Z",
     "start_time": "2025-02-15T20:57:22.767105Z"
    }
   },
   "outputs": [
    {
     "data": {
      "text/plain": [
       "(7490, 26, 300)"
      ]
     },
     "execution_count": 37,
     "metadata": {},
     "output_type": "execute_result"
    }
   ],
   "source": [
    "unlabeled_padded_vectors = np.load(\"data/processed/padded_glove_vectors.npy\")[401:]\n",
    "# unlabeled_padded_vectors = unlabeled_padded_vectors.mean(axis=1)\n",
    "unlabeled_padded_vectors.shape"
   ]
  },
  {
   "cell_type": "code",
   "execution_count": 38,
   "id": "eca98d0ca076bab6",
   "metadata": {
    "ExecuteTime": {
     "end_time": "2025-02-15T20:57:22.945118Z",
     "start_time": "2025-02-15T20:57:22.942895Z"
    }
   },
   "outputs": [
    {
     "name": "stdout",
     "output_type": "stream",
     "text": [
      "Labeled data shape: (400, 26, 300)\n",
      "Unlabeled data shape: (7490, 26, 300)\n"
     ]
    }
   ],
   "source": [
    "print(\"Labeled data shape:\", padded_vectors.shape)  # Expect (198, 300)\n",
    "print(\"Unlabeled data shape:\", unlabeled_padded_vectors.shape)  # Expect (n, 300)\n"
   ]
  },
  {
   "cell_type": "code",
   "execution_count": 39,
   "id": "1acf24fe20443991",
   "metadata": {
    "ExecuteTime": {
     "end_time": "2025-02-15T20:57:22.971797Z",
     "start_time": "2025-02-15T20:57:22.956451Z"
    }
   },
   "outputs": [],
   "source": [
    "\n",
    "from scripts.DataDistillation import DataDistillation\n",
    "\n",
    "distillation = DataDistillation(\n",
    "    model,\n",
    "    (padded_vectors, df_original[\"Has opinion\"]),\n",
    "    unlabeled_padded_vectors, epochs=10, pseudo_batch_size=1000, random_state=1, validation_split=0.2\n",
    ")\n"
   ]
  },
  {
   "cell_type": "code",
   "execution_count": 40,
   "id": "ed5588cc",
   "metadata": {
    "ExecuteTime": {
     "end_time": "2025-02-15T20:57:32.328447Z",
     "start_time": "2025-02-15T20:57:22.999938Z"
    }
   },
   "outputs": [
    {
     "name": "stdout",
     "output_type": "stream",
     "text": [
      "Starting Data Distillation\n",
      "Training model on labeled training data...\n",
      "Evaluating model on internal validation set...\n",
      "Teacher performance on internal validation set: 0.625\n",
      "Starting iteration 1\n",
      "Teacher predicting next unlabeled data batch with shape: (1000, 26, 300)\n",
      "Pseudo-labeled samples in this iteration: 1000\n",
      "Training student on combined data with size (632, 26, 300)\n",
      "Evaluating model on internal validation set...\n",
      "Student performance on internal validation set: 0.6000000238418579\n",
      "Student did not outperform teacher. Stopping data distillation.\n",
      "Data distillation process completed.\n",
      "Final teacher performance on internal validation set: 0.625\n"
     ]
    }
   ],
   "source": [
    "distillation.start()"
   ]
  },
  {
   "cell_type": "code",
   "execution_count": 41,
   "id": "a8514ac5fd799598",
   "metadata": {
    "ExecuteTime": {
     "end_time": "2025-02-15T20:57:32.535120Z",
     "start_time": "2025-02-15T20:57:32.361384Z"
    }
   },
   "outputs": [
    {
     "name": "stdout",
     "output_type": "stream",
     "text": [
      "\u001b[1m3/3\u001b[0m \u001b[32m━━━━━━━━━━━━━━━━━━━━\u001b[0m\u001b[37m\u001b[0m \u001b[1m0s\u001b[0m 44ms/step\n"
     ]
    },
    {
     "data": {
      "text/plain": [
       "<sklearn.metrics._plot.confusion_matrix.ConfusionMatrixDisplay at 0x3eb0dfb90>"
      ]
     },
     "execution_count": 41,
     "metadata": {},
     "output_type": "execute_result"
    },
    {
     "data": {
      "image/png": "[encoded data removed]",
      "text/plain": [
       "<Figure size 640x480 with 2 Axes>"
      ]
     },
     "metadata": {},
     "output_type": "display_data"
    }
   ],
   "source": [
    "y_pred = (model.predict(X_test) > 0.5).astype(int)\n",
    "matrix = confusion_matrix(y_test, y_pred)\n",
    "\n",
    "display = ConfusionMatrixDisplay(matrix)\n",
    "display.plot()"
   ]
  },
  {
   "cell_type": "code",
   "execution_count": null,
   "id": "66c5a7d6",
   "metadata": {},
   "outputs": [],
   "source": [
    "best_model = distillation.get_model()\n",
    "best_model.summary()"
   ]
  }
 ],
 "metadata": {
  "kernelspec": {
   "display_name": "diplomova_praca_kod",
   "language": "python",
   "name": "python3"
  },
  "language_info": {
   "codemirror_mode": {
    "name": "ipython",
    "version": 3
   },
   "file_extension": ".py",
   "mimetype": "text/x-python",
   "name": "python",
   "nbconvert_exporter": "python",
   "pygments_lexer": "ipython3",
   "version": "3.11.11"
  }
 },
 "nbformat": 4,
 "nbformat_minor": 5
}
