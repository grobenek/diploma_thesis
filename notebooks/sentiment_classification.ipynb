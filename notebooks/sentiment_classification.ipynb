{
 "cells": [
  {
   "cell_type": "code",
   "id": "fbb5be07f1da51f3",
   "metadata": {
    "ExecuteTime": {
     "end_time": "2025-02-15T20:44:25.906052Z",
     "start_time": "2025-02-15T20:44:21.200499Z"
    }
   },
   "source": [
    "from keras.api import layers, models\n",
    "import pandas as pd\n",
    "import numpy as np\n",
    "from sklearn.model_selection import train_test_split\n",
    "import matplotlib.pyplot as plt\n",
    "import tensorflow as tf\n",
    "tf.random.set_seed(1)\n",
    "\n",
    "from keras.api import metrics\n",
    "from sklearn.metrics import confusion_matrix\n",
    "from sklearn.metrics import ConfusionMatrixDisplay"
   ],
   "outputs": [],
   "execution_count": 1
  },
  {
   "cell_type": "markdown",
   "id": "ec737c3ab1d36cf",
   "metadata": {},
   "source": [
    "Sentiment has 3 classes"
   ]
  },
  {
   "cell_type": "code",
   "id": "initial_id",
   "metadata": {
    "collapsed": true,
    "ExecuteTime": {
     "end_time": "2025-02-15T20:44:26.206613Z",
     "start_time": "2025-02-15T20:44:25.919795Z"
    }
   },
   "source": [
    "model = models.Sequential()\n",
    "\n",
    "model.add(layers.Input(shape=(26, 300), name=\"Domain_1\"))\n",
    "\n",
    "model.add(layers.Flatten())\n",
    "\n",
    "model.add(layers.Dense(200, activation='relu', name=\"layer_1\"))\n",
    "\n",
    "model.add(layers.Dropout(0.8, name=\"dropout_3\"))\n",
    "\n",
    "model.add(layers.BatchNormalization(name=\"batch_normalization_3\"))\n",
    "\n",
    "model.add(layers.Dense(100, activation='relu', name=\"layer_2\"))\n",
    "\n",
    "model.add(layers.Dropout(0.8, name=\"dropout_4\"))\n",
    "\n",
    "model.add(layers.BatchNormalization(name=\"batch_normalization_4\"))\n",
    "\n",
    "model.add(layers.Dense(3, activation='softmax', name=\"sentiment\"))\n",
    "\n",
    "model.compile(\n",
    "    optimizer='adam',\n",
    "    loss='sparse_categorical_crossentropy',\n",
    "    metrics=['accuracy']\n",
    ")\n",
    "\n",
    "model.summary()"
   ],
   "outputs": [
    {
     "name": "stderr",
     "output_type": "stream",
     "text": [
      "2025-02-15 21:44:25.925064: I metal_plugin/src/device/metal_device.cc:1154] Metal device set to: Apple M1\n",
      "2025-02-15 21:44:25.925097: I metal_plugin/src/device/metal_device.cc:296] systemMemory: 8.00 GB\n",
      "2025-02-15 21:44:25.925105: I metal_plugin/src/device/metal_device.cc:313] maxCacheSize: 2.67 GB\n",
      "WARNING: All log messages before absl::InitializeLog() is called are written to STDERR\n",
      "I0000 00:00:1739652265.925541 3927850 pluggable_device_factory.cc:305] Could not identify NUMA node of platform GPU ID 0, defaulting to 0. Your kernel may not have been built with NUMA support.\n",
      "I0000 00:00:1739652265.925820 3927850 pluggable_device_factory.cc:271] Created TensorFlow device (/job:localhost/replica:0/task:0/device:GPU:0 with 0 MB memory) -> physical PluggableDevice (device: 0, name: METAL, pci bus id: <undefined>)\n"
     ]
    },
    {
     "data": {
      "text/plain": [
       "\u001B[1mModel: \"sequential\"\u001B[0m\n"
      ],
      "text/html": [
       "<pre style=\"white-space:pre;overflow-x:auto;line-height:normal;font-family:Menlo,'DejaVu Sans Mono',consolas,'Courier New',monospace\"><span style=\"font-weight: bold\">Model: \"sequential\"</span>\n",
       "</pre>\n"
      ]
     },
     "metadata": {},
     "output_type": "display_data"
    },
    {
     "data": {
      "text/plain": [
       "┏━━━━━━━━━━━━━━━━━━━━━━━━━━━━━━━━━┳━━━━━━━━━━━━━━━━━━━━━━━━┳━━━━━━━━━━━━━━━┓\n",
       "┃\u001B[1m \u001B[0m\u001B[1mLayer (type)                   \u001B[0m\u001B[1m \u001B[0m┃\u001B[1m \u001B[0m\u001B[1mOutput Shape          \u001B[0m\u001B[1m \u001B[0m┃\u001B[1m \u001B[0m\u001B[1m      Param #\u001B[0m\u001B[1m \u001B[0m┃\n",
       "┡━━━━━━━━━━━━━━━━━━━━━━━━━━━━━━━━━╇━━━━━━━━━━━━━━━━━━━━━━━━╇━━━━━━━━━━━━━━━┩\n",
       "│ flatten (\u001B[38;5;33mFlatten\u001B[0m)               │ (\u001B[38;5;45mNone\u001B[0m, \u001B[38;5;34m7800\u001B[0m)           │             \u001B[38;5;34m0\u001B[0m │\n",
       "├─────────────────────────────────┼────────────────────────┼───────────────┤\n",
       "│ layer_1 (\u001B[38;5;33mDense\u001B[0m)                 │ (\u001B[38;5;45mNone\u001B[0m, \u001B[38;5;34m200\u001B[0m)            │     \u001B[38;5;34m1,560,200\u001B[0m │\n",
       "├─────────────────────────────────┼────────────────────────┼───────────────┤\n",
       "│ dropout_3 (\u001B[38;5;33mDropout\u001B[0m)             │ (\u001B[38;5;45mNone\u001B[0m, \u001B[38;5;34m200\u001B[0m)            │             \u001B[38;5;34m0\u001B[0m │\n",
       "├─────────────────────────────────┼────────────────────────┼───────────────┤\n",
       "│ batch_normalization_3           │ (\u001B[38;5;45mNone\u001B[0m, \u001B[38;5;34m200\u001B[0m)            │           \u001B[38;5;34m800\u001B[0m │\n",
       "│ (\u001B[38;5;33mBatchNormalization\u001B[0m)            │                        │               │\n",
       "├─────────────────────────────────┼────────────────────────┼───────────────┤\n",
       "│ layer_2 (\u001B[38;5;33mDense\u001B[0m)                 │ (\u001B[38;5;45mNone\u001B[0m, \u001B[38;5;34m100\u001B[0m)            │        \u001B[38;5;34m20,100\u001B[0m │\n",
       "├─────────────────────────────────┼────────────────────────┼───────────────┤\n",
       "│ dropout_4 (\u001B[38;5;33mDropout\u001B[0m)             │ (\u001B[38;5;45mNone\u001B[0m, \u001B[38;5;34m100\u001B[0m)            │             \u001B[38;5;34m0\u001B[0m │\n",
       "├─────────────────────────────────┼────────────────────────┼───────────────┤\n",
       "│ batch_normalization_4           │ (\u001B[38;5;45mNone\u001B[0m, \u001B[38;5;34m100\u001B[0m)            │           \u001B[38;5;34m400\u001B[0m │\n",
       "│ (\u001B[38;5;33mBatchNormalization\u001B[0m)            │                        │               │\n",
       "├─────────────────────────────────┼────────────────────────┼───────────────┤\n",
       "│ sentiment (\u001B[38;5;33mDense\u001B[0m)               │ (\u001B[38;5;45mNone\u001B[0m, \u001B[38;5;34m3\u001B[0m)              │           \u001B[38;5;34m303\u001B[0m │\n",
       "└─────────────────────────────────┴────────────────────────┴───────────────┘\n"
      ],
      "text/html": [
       "<pre style=\"white-space:pre;overflow-x:auto;line-height:normal;font-family:Menlo,'DejaVu Sans Mono',consolas,'Courier New',monospace\">┏━━━━━━━━━━━━━━━━━━━━━━━━━━━━━━━━━┳━━━━━━━━━━━━━━━━━━━━━━━━┳━━━━━━━━━━━━━━━┓\n",
       "┃<span style=\"font-weight: bold\"> Layer (type)                    </span>┃<span style=\"font-weight: bold\"> Output Shape           </span>┃<span style=\"font-weight: bold\">       Param # </span>┃\n",
       "┡━━━━━━━━━━━━━━━━━━━━━━━━━━━━━━━━━╇━━━━━━━━━━━━━━━━━━━━━━━━╇━━━━━━━━━━━━━━━┩\n",
       "│ flatten (<span style=\"color: #0087ff; text-decoration-color: #0087ff\">Flatten</span>)               │ (<span style=\"color: #00d7ff; text-decoration-color: #00d7ff\">None</span>, <span style=\"color: #00af00; text-decoration-color: #00af00\">7800</span>)           │             <span style=\"color: #00af00; text-decoration-color: #00af00\">0</span> │\n",
       "├─────────────────────────────────┼────────────────────────┼───────────────┤\n",
       "│ layer_1 (<span style=\"color: #0087ff; text-decoration-color: #0087ff\">Dense</span>)                 │ (<span style=\"color: #00d7ff; text-decoration-color: #00d7ff\">None</span>, <span style=\"color: #00af00; text-decoration-color: #00af00\">200</span>)            │     <span style=\"color: #00af00; text-decoration-color: #00af00\">1,560,200</span> │\n",
       "├─────────────────────────────────┼────────────────────────┼───────────────┤\n",
       "│ dropout_3 (<span style=\"color: #0087ff; text-decoration-color: #0087ff\">Dropout</span>)             │ (<span style=\"color: #00d7ff; text-decoration-color: #00d7ff\">None</span>, <span style=\"color: #00af00; text-decoration-color: #00af00\">200</span>)            │             <span style=\"color: #00af00; text-decoration-color: #00af00\">0</span> │\n",
       "├─────────────────────────────────┼────────────────────────┼───────────────┤\n",
       "│ batch_normalization_3           │ (<span style=\"color: #00d7ff; text-decoration-color: #00d7ff\">None</span>, <span style=\"color: #00af00; text-decoration-color: #00af00\">200</span>)            │           <span style=\"color: #00af00; text-decoration-color: #00af00\">800</span> │\n",
       "│ (<span style=\"color: #0087ff; text-decoration-color: #0087ff\">BatchNormalization</span>)            │                        │               │\n",
       "├─────────────────────────────────┼────────────────────────┼───────────────┤\n",
       "│ layer_2 (<span style=\"color: #0087ff; text-decoration-color: #0087ff\">Dense</span>)                 │ (<span style=\"color: #00d7ff; text-decoration-color: #00d7ff\">None</span>, <span style=\"color: #00af00; text-decoration-color: #00af00\">100</span>)            │        <span style=\"color: #00af00; text-decoration-color: #00af00\">20,100</span> │\n",
       "├─────────────────────────────────┼────────────────────────┼───────────────┤\n",
       "│ dropout_4 (<span style=\"color: #0087ff; text-decoration-color: #0087ff\">Dropout</span>)             │ (<span style=\"color: #00d7ff; text-decoration-color: #00d7ff\">None</span>, <span style=\"color: #00af00; text-decoration-color: #00af00\">100</span>)            │             <span style=\"color: #00af00; text-decoration-color: #00af00\">0</span> │\n",
       "├─────────────────────────────────┼────────────────────────┼───────────────┤\n",
       "│ batch_normalization_4           │ (<span style=\"color: #00d7ff; text-decoration-color: #00d7ff\">None</span>, <span style=\"color: #00af00; text-decoration-color: #00af00\">100</span>)            │           <span style=\"color: #00af00; text-decoration-color: #00af00\">400</span> │\n",
       "│ (<span style=\"color: #0087ff; text-decoration-color: #0087ff\">BatchNormalization</span>)            │                        │               │\n",
       "├─────────────────────────────────┼────────────────────────┼───────────────┤\n",
       "│ sentiment (<span style=\"color: #0087ff; text-decoration-color: #0087ff\">Dense</span>)               │ (<span style=\"color: #00d7ff; text-decoration-color: #00d7ff\">None</span>, <span style=\"color: #00af00; text-decoration-color: #00af00\">3</span>)              │           <span style=\"color: #00af00; text-decoration-color: #00af00\">303</span> │\n",
       "└─────────────────────────────────┴────────────────────────┴───────────────┘\n",
       "</pre>\n"
      ]
     },
     "metadata": {},
     "output_type": "display_data"
    },
    {
     "data": {
      "text/plain": [
       "\u001B[1m Total params: \u001B[0m\u001B[38;5;34m1,581,803\u001B[0m (6.03 MB)\n"
      ],
      "text/html": [
       "<pre style=\"white-space:pre;overflow-x:auto;line-height:normal;font-family:Menlo,'DejaVu Sans Mono',consolas,'Courier New',monospace\"><span style=\"font-weight: bold\"> Total params: </span><span style=\"color: #00af00; text-decoration-color: #00af00\">1,581,803</span> (6.03 MB)\n",
       "</pre>\n"
      ]
     },
     "metadata": {},
     "output_type": "display_data"
    },
    {
     "data": {
      "text/plain": [
       "\u001B[1m Trainable params: \u001B[0m\u001B[38;5;34m1,581,203\u001B[0m (6.03 MB)\n"
      ],
      "text/html": [
       "<pre style=\"white-space:pre;overflow-x:auto;line-height:normal;font-family:Menlo,'DejaVu Sans Mono',consolas,'Courier New',monospace\"><span style=\"font-weight: bold\"> Trainable params: </span><span style=\"color: #00af00; text-decoration-color: #00af00\">1,581,203</span> (6.03 MB)\n",
       "</pre>\n"
      ]
     },
     "metadata": {},
     "output_type": "display_data"
    },
    {
     "data": {
      "text/plain": [
       "\u001B[1m Non-trainable params: \u001B[0m\u001B[38;5;34m600\u001B[0m (2.34 KB)\n"
      ],
      "text/html": [
       "<pre style=\"white-space:pre;overflow-x:auto;line-height:normal;font-family:Menlo,'DejaVu Sans Mono',consolas,'Courier New',monospace\"><span style=\"font-weight: bold\"> Non-trainable params: </span><span style=\"color: #00af00; text-decoration-color: #00af00\">600</span> (2.34 KB)\n",
       "</pre>\n"
      ]
     },
     "metadata": {},
     "output_type": "display_data"
    }
   ],
   "execution_count": 2
  },
  {
   "metadata": {
    "ExecuteTime": {
     "end_time": "2025-02-15T20:44:26.334537Z",
     "start_time": "2025-02-15T20:44:26.332905Z"
    }
   },
   "cell_type": "code",
   "source": [
    "\n",
    "from keras.api.utils import plot_model\n",
    "# plot_model(model, to_file=\"sentiment_classification_baseline_model.png\",show_shapes=True, show_layer_names=True)\n"
   ],
   "id": "aa8f19c6819dde38",
   "outputs": [],
   "execution_count": 3
  },
  {
   "cell_type": "code",
   "id": "70cfb9d6daca196f",
   "metadata": {
    "ExecuteTime": {
     "end_time": "2025-02-15T20:44:34.686222Z",
     "start_time": "2025-02-15T20:44:26.349441Z"
    }
   },
   "source": "df_original = pd.read_csv(\"../data/processed/processed_tweets.csv\")",
   "outputs": [],
   "execution_count": 4
  },
  {
   "cell_type": "code",
   "id": "350010b4fa83b17b",
   "metadata": {
    "ExecuteTime": {
     "end_time": "2025-02-15T20:44:34.721623Z",
     "start_time": "2025-02-15T20:44:34.701551Z"
    }
   },
   "source": [
    "df_with_unlabeled = df_original.copy()\n",
    "df_with_unlabeled = df_with_unlabeled[df_with_unlabeled[\"Sentiment\"].isna()]\n",
    "df_original = df_original.dropna(subset=[\"Sentiment\"])\n",
    "df_original.info()\n",
    "\n",
    "df_original[\"Sentiment\"] = df_original[\"Sentiment\"].map({-1: 0, 0: 1, 1: 2})"
   ],
   "outputs": [
    {
     "name": "stdout",
     "output_type": "stream",
     "text": [
      "<class 'pandas.core.frame.DataFrame'>\n",
      "Index: 400 entries, 0 to 399\n",
      "Data columns (total 6 columns):\n",
      " #   Column         Non-Null Count  Dtype  \n",
      "---  ------         --------------  -----  \n",
      " 0   text           400 non-null    object \n",
      " 1   Sentiment      400 non-null    float64\n",
      " 2   Has opinion    400 non-null    float64\n",
      " 3   cleaned_text   400 non-null    object \n",
      " 4   word_vectors   400 non-null    object \n",
      " 5   glove_vectors  400 non-null    object \n",
      "dtypes: float64(2), object(4)\n",
      "memory usage: 21.9+ KB\n"
     ]
    }
   ],
   "execution_count": 5
  },
  {
   "cell_type": "code",
   "id": "fc3f73a30d162a9b",
   "metadata": {
    "ExecuteTime": {
     "end_time": "2025-02-15T20:44:34.738320Z",
     "start_time": "2025-02-15T20:44:34.731150Z"
    }
   },
   "source": [
    "df_original.head()"
   ],
   "outputs": [
    {
     "data": {
      "text/plain": [
       "                                                text  Sentiment  Has opinion  \\\n",
       "0  iPad: “Welcome to Apple Intelligence the newes...          0          0.0   \n",
       "1  I believe they call it \"Apple Intelligence\", Sara          1          0.0   \n",
       "2  Unfortunately, there's \"Apple Intelligence\" ad...          0          0.0   \n",
       "3  i did turn it off globally but idk how off it ...          1          0.0   \n",
       "4  Uh…yeah. Yes, do that, Apple. I’m fine with th...          0          0.0   \n",
       "\n",
       "                                        cleaned_text  \\\n",
       "0     ipad welcome apple intelligence new     ipad     \n",
       "1               believe call apple intelligence sara   \n",
       "2  unfortunately apple intelligence add software ...   \n",
       "3                            turn globally idk truly   \n",
       "4         uhyeah yes apple fine   leave intelligence   \n",
       "\n",
       "                                        word_vectors  \\\n",
       "0  [array([-2.04101562e-01, -1.73828125e-01, -2.2...   \n",
       "1  [array([-0.1640625 ,  0.01080322,  0.03320312,...   \n",
       "2  [array([ 8.39233398e-04,  2.33154297e-02, -1.9...   \n",
       "3  [array([-0.06298828,  0.10693359, -0.00549316,...   \n",
       "4  [array([ 1.15722656e-01, -1.29882812e-01,  6.5...   \n",
       "\n",
       "                                       glove_vectors  \n",
       "0  [array([ 0.11563  ,  0.3842   , -0.16833  ,  0...  \n",
       "1  [array([-2.8593e-01,  3.4309e-01, -3.6802e-01,...  \n",
       "2  [array([-0.12328  ,  0.016084 , -0.196    ,  0...  \n",
       "3  [array([ 1.9474e-01,  3.8828e-01,  1.3956e-01,...  \n",
       "4  [array([0., 0., 0., 0., 0., 0., 0., 0., 0., 0....  "
      ],
      "text/html": [
       "<div>\n",
       "<style scoped>\n",
       "    .dataframe tbody tr th:only-of-type {\n",
       "        vertical-align: middle;\n",
       "    }\n",
       "\n",
       "    .dataframe tbody tr th {\n",
       "        vertical-align: top;\n",
       "    }\n",
       "\n",
       "    .dataframe thead th {\n",
       "        text-align: right;\n",
       "    }\n",
       "</style>\n",
       "<table border=\"1\" class=\"dataframe\">\n",
       "  <thead>\n",
       "    <tr style=\"text-align: right;\">\n",
       "      <th></th>\n",
       "      <th>text</th>\n",
       "      <th>Sentiment</th>\n",
       "      <th>Has opinion</th>\n",
       "      <th>cleaned_text</th>\n",
       "      <th>word_vectors</th>\n",
       "      <th>glove_vectors</th>\n",
       "    </tr>\n",
       "  </thead>\n",
       "  <tbody>\n",
       "    <tr>\n",
       "      <th>0</th>\n",
       "      <td>iPad: “Welcome to Apple Intelligence the newes...</td>\n",
       "      <td>0</td>\n",
       "      <td>0.0</td>\n",
       "      <td>ipad welcome apple intelligence new     ipad</td>\n",
       "      <td>[array([-2.04101562e-01, -1.73828125e-01, -2.2...</td>\n",
       "      <td>[array([ 0.11563  ,  0.3842   , -0.16833  ,  0...</td>\n",
       "    </tr>\n",
       "    <tr>\n",
       "      <th>1</th>\n",
       "      <td>I believe they call it \"Apple Intelligence\", Sara</td>\n",
       "      <td>1</td>\n",
       "      <td>0.0</td>\n",
       "      <td>believe call apple intelligence sara</td>\n",
       "      <td>[array([-0.1640625 ,  0.01080322,  0.03320312,...</td>\n",
       "      <td>[array([-2.8593e-01,  3.4309e-01, -3.6802e-01,...</td>\n",
       "    </tr>\n",
       "    <tr>\n",
       "      <th>2</th>\n",
       "      <td>Unfortunately, there's \"Apple Intelligence\" ad...</td>\n",
       "      <td>0</td>\n",
       "      <td>0.0</td>\n",
       "      <td>unfortunately apple intelligence add software ...</td>\n",
       "      <td>[array([ 8.39233398e-04,  2.33154297e-02, -1.9...</td>\n",
       "      <td>[array([-0.12328  ,  0.016084 , -0.196    ,  0...</td>\n",
       "    </tr>\n",
       "    <tr>\n",
       "      <th>3</th>\n",
       "      <td>i did turn it off globally but idk how off it ...</td>\n",
       "      <td>1</td>\n",
       "      <td>0.0</td>\n",
       "      <td>turn globally idk truly</td>\n",
       "      <td>[array([-0.06298828,  0.10693359, -0.00549316,...</td>\n",
       "      <td>[array([ 1.9474e-01,  3.8828e-01,  1.3956e-01,...</td>\n",
       "    </tr>\n",
       "    <tr>\n",
       "      <th>4</th>\n",
       "      <td>Uh…yeah. Yes, do that, Apple. I’m fine with th...</td>\n",
       "      <td>0</td>\n",
       "      <td>0.0</td>\n",
       "      <td>uhyeah yes apple fine   leave intelligence</td>\n",
       "      <td>[array([ 1.15722656e-01, -1.29882812e-01,  6.5...</td>\n",
       "      <td>[array([0., 0., 0., 0., 0., 0., 0., 0., 0., 0....</td>\n",
       "    </tr>\n",
       "  </tbody>\n",
       "</table>\n",
       "</div>"
      ]
     },
     "execution_count": 6,
     "metadata": {},
     "output_type": "execute_result"
    }
   ],
   "execution_count": 6
  },
  {
   "metadata": {
    "ExecuteTime": {
     "end_time": "2025-02-15T20:44:34.785698Z",
     "start_time": "2025-02-15T20:44:34.782513Z"
    }
   },
   "cell_type": "code",
   "source": "df_original[\"Sentiment\"].value_counts()",
   "id": "581ac72c7a622e6e",
   "outputs": [
    {
     "data": {
      "text/plain": [
       "Sentiment\n",
       "0    243\n",
       "1    133\n",
       "2     24\n",
       "Name: count, dtype: int64"
      ]
     },
     "execution_count": 7,
     "metadata": {},
     "output_type": "execute_result"
    }
   ],
   "execution_count": 7
  },
  {
   "cell_type": "code",
   "id": "68d193db70b51e72",
   "metadata": {
    "ExecuteTime": {
     "end_time": "2025-02-15T20:44:34.945748Z",
     "start_time": "2025-02-15T20:44:34.857726Z"
    }
   },
   "source": [
    "padded_vectors = np.load(\"../data/processed/padded_glove_vectors.npy\")\n",
    "padded_vectors = padded_vectors[:400]"
   ],
   "outputs": [],
   "execution_count": 8
  },
  {
   "cell_type": "code",
   "id": "6065b5a84687708a",
   "metadata": {
    "ExecuteTime": {
     "end_time": "2025-02-15T20:44:34.952507Z",
     "start_time": "2025-02-15T20:44:34.949639Z"
    }
   },
   "source": [
    "padded_vectors.shape"
   ],
   "outputs": [
    {
     "data": {
      "text/plain": [
       "(400, 26, 300)"
      ]
     },
     "execution_count": 9,
     "metadata": {},
     "output_type": "execute_result"
    }
   ],
   "execution_count": 9
  },
  {
   "cell_type": "code",
   "id": "e8aa6b57543dca03",
   "metadata": {
    "ExecuteTime": {
     "end_time": "2025-02-15T20:44:34.959945Z",
     "start_time": "2025-02-15T20:44:34.957896Z"
    }
   },
   "source": "# padded_vectors_average = np.mean(padded_vectors, axis=1)",
   "outputs": [],
   "execution_count": 10
  },
  {
   "cell_type": "code",
   "id": "9bef18ce8433a625",
   "metadata": {
    "ExecuteTime": {
     "end_time": "2025-02-15T20:44:35.096564Z",
     "start_time": "2025-02-15T20:44:35.078690Z"
    }
   },
   "source": "X_train, X_test, y_train, y_test = train_test_split(padded_vectors, df_original[\"Sentiment\"], test_size=0.2, random_state=1, stratify=df_original[\"Sentiment\"])",
   "outputs": [],
   "execution_count": 11
  },
  {
   "cell_type": "code",
   "id": "cc4212268a63eaf7",
   "metadata": {
    "ExecuteTime": {
     "end_time": "2025-02-15T20:44:35.112655Z",
     "start_time": "2025-02-15T20:44:35.106711Z"
    }
   },
   "source": [
    "X_train.shape"
   ],
   "outputs": [
    {
     "data": {
      "text/plain": [
       "(320, 26, 300)"
      ]
     },
     "execution_count": 12,
     "metadata": {},
     "output_type": "execute_result"
    }
   ],
   "execution_count": 12
  },
  {
   "metadata": {
    "ExecuteTime": {
     "end_time": "2025-02-15T20:44:35.131496Z",
     "start_time": "2025-02-15T20:44:35.122713Z"
    }
   },
   "cell_type": "code",
   "source": [
    "unique_values, counts = np.unique(y_train, return_counts=True)\n",
    "\n",
    "for value, count in zip(unique_values, counts):\n",
    "    print(f\"{value}: {count}\")"
   ],
   "id": "dca9d3bb6a796a57",
   "outputs": [
    {
     "name": "stdout",
     "output_type": "stream",
     "text": [
      "0: 195\n",
      "1: 106\n",
      "2: 19\n"
     ]
    }
   ],
   "execution_count": 13
  },
  {
   "metadata": {
    "ExecuteTime": {
     "end_time": "2025-02-15T20:44:35.190174Z",
     "start_time": "2025-02-15T20:44:35.184980Z"
    }
   },
   "cell_type": "code",
   "source": "y_train.shape",
   "id": "f27ccc82c855c615",
   "outputs": [
    {
     "data": {
      "text/plain": [
       "(320,)"
      ]
     },
     "execution_count": 14,
     "metadata": {},
     "output_type": "execute_result"
    }
   ],
   "execution_count": 14
  },
  {
   "cell_type": "code",
   "id": "eb4cf15284ac4ca5",
   "metadata": {
    "ExecuteTime": {
     "end_time": "2025-02-15T20:44:48.123721Z",
     "start_time": "2025-02-15T20:44:35.295432Z"
    }
   },
   "source": "history = model.fit(x=X_train, y=y_train, epochs=50)",
   "outputs": [
    {
     "name": "stdout",
     "output_type": "stream",
     "text": [
      "Epoch 1/50\n"
     ]
    },
    {
     "name": "stderr",
     "output_type": "stream",
     "text": [
      "2025-02-15 21:44:36.075577: I tensorflow/core/grappler/optimizers/custom_graph_optimizer_registry.cc:117] Plugin optimizer for device_type GPU is enabled.\n"
     ]
    },
    {
     "name": "stdout",
     "output_type": "stream",
     "text": [
      "\u001B[1m10/10\u001B[0m \u001B[32m━━━━━━━━━━━━━━━━━━━━\u001B[0m\u001B[37m\u001B[0m \u001B[1m2s\u001B[0m 23ms/step - accuracy: 0.3399 - loss: 1.5622\n",
      "Epoch 2/50\n",
      "\u001B[1m10/10\u001B[0m \u001B[32m━━━━━━━━━━━━━━━━━━━━\u001B[0m\u001B[37m\u001B[0m \u001B[1m0s\u001B[0m 21ms/step - accuracy: 0.3566 - loss: 1.4321\n",
      "Epoch 3/50\n",
      "\u001B[1m10/10\u001B[0m \u001B[32m━━━━━━━━━━━━━━━━━━━━\u001B[0m\u001B[37m\u001B[0m \u001B[1m0s\u001B[0m 24ms/step - accuracy: 0.3771 - loss: 1.3992\n",
      "Epoch 4/50\n",
      "\u001B[1m10/10\u001B[0m \u001B[32m━━━━━━━━━━━━━━━━━━━━\u001B[0m\u001B[37m\u001B[0m \u001B[1m0s\u001B[0m 21ms/step - accuracy: 0.4073 - loss: 1.4350\n",
      "Epoch 5/50\n",
      "\u001B[1m10/10\u001B[0m \u001B[32m━━━━━━━━━━━━━━━━━━━━\u001B[0m\u001B[37m\u001B[0m \u001B[1m0s\u001B[0m 22ms/step - accuracy: 0.4073 - loss: 1.3195\n",
      "Epoch 6/50\n",
      "\u001B[1m10/10\u001B[0m \u001B[32m━━━━━━━━━━━━━━━━━━━━\u001B[0m\u001B[37m\u001B[0m \u001B[1m0s\u001B[0m 21ms/step - accuracy: 0.4655 - loss: 1.1875\n",
      "Epoch 7/50\n",
      "\u001B[1m10/10\u001B[0m \u001B[32m━━━━━━━━━━━━━━━━━━━━\u001B[0m\u001B[37m\u001B[0m \u001B[1m0s\u001B[0m 30ms/step - accuracy: 0.4981 - loss: 1.1358\n",
      "Epoch 8/50\n",
      "\u001B[1m10/10\u001B[0m \u001B[32m━━━━━━━━━━━━━━━━━━━━\u001B[0m\u001B[37m\u001B[0m \u001B[1m0s\u001B[0m 21ms/step - accuracy: 0.5117 - loss: 1.1561\n",
      "Epoch 9/50\n",
      "\u001B[1m10/10\u001B[0m \u001B[32m━━━━━━━━━━━━━━━━━━━━\u001B[0m\u001B[37m\u001B[0m \u001B[1m0s\u001B[0m 21ms/step - accuracy: 0.5581 - loss: 1.0251\n",
      "Epoch 10/50\n",
      "\u001B[1m10/10\u001B[0m \u001B[32m━━━━━━━━━━━━━━━━━━━━\u001B[0m\u001B[37m\u001B[0m \u001B[1m0s\u001B[0m 23ms/step - accuracy: 0.4600 - loss: 1.1122\n",
      "Epoch 11/50\n",
      "\u001B[1m10/10\u001B[0m \u001B[32m━━━━━━━━━━━━━━━━━━━━\u001B[0m\u001B[37m\u001B[0m \u001B[1m0s\u001B[0m 20ms/step - accuracy: 0.5361 - loss: 1.0175\n",
      "Epoch 12/50\n",
      "\u001B[1m10/10\u001B[0m \u001B[32m━━━━━━━━━━━━━━━━━━━━\u001B[0m\u001B[37m\u001B[0m \u001B[1m0s\u001B[0m 20ms/step - accuracy: 0.5651 - loss: 0.9099\n",
      "Epoch 13/50\n",
      "\u001B[1m10/10\u001B[0m \u001B[32m━━━━━━━━━━━━━━━━━━━━\u001B[0m\u001B[37m\u001B[0m \u001B[1m0s\u001B[0m 22ms/step - accuracy: 0.5699 - loss: 0.9648\n",
      "Epoch 14/50\n",
      "\u001B[1m10/10\u001B[0m \u001B[32m━━━━━━━━━━━━━━━━━━━━\u001B[0m\u001B[37m\u001B[0m \u001B[1m0s\u001B[0m 22ms/step - accuracy: 0.5081 - loss: 0.9132\n",
      "Epoch 15/50\n",
      "\u001B[1m10/10\u001B[0m \u001B[32m━━━━━━━━━━━━━━━━━━━━\u001B[0m\u001B[37m\u001B[0m \u001B[1m0s\u001B[0m 21ms/step - accuracy: 0.5468 - loss: 0.9733\n",
      "Epoch 16/50\n",
      "\u001B[1m10/10\u001B[0m \u001B[32m━━━━━━━━━━━━━━━━━━━━\u001B[0m\u001B[37m\u001B[0m \u001B[1m0s\u001B[0m 21ms/step - accuracy: 0.6321 - loss: 0.8164\n",
      "Epoch 17/50\n",
      "\u001B[1m10/10\u001B[0m \u001B[32m━━━━━━━━━━━━━━━━━━━━\u001B[0m\u001B[37m\u001B[0m \u001B[1m0s\u001B[0m 20ms/step - accuracy: 0.5760 - loss: 0.9299\n",
      "Epoch 18/50\n",
      "\u001B[1m10/10\u001B[0m \u001B[32m━━━━━━━━━━━━━━━━━━━━\u001B[0m\u001B[37m\u001B[0m \u001B[1m0s\u001B[0m 20ms/step - accuracy: 0.6299 - loss: 0.8475\n",
      "Epoch 19/50\n",
      "\u001B[1m10/10\u001B[0m \u001B[32m━━━━━━━━━━━━━━━━━━━━\u001B[0m\u001B[37m\u001B[0m \u001B[1m0s\u001B[0m 20ms/step - accuracy: 0.6640 - loss: 0.7787\n",
      "Epoch 20/50\n",
      "\u001B[1m10/10\u001B[0m \u001B[32m━━━━━━━━━━━━━━━━━━━━\u001B[0m\u001B[37m\u001B[0m \u001B[1m0s\u001B[0m 19ms/step - accuracy: 0.6349 - loss: 0.7832\n",
      "Epoch 21/50\n",
      "\u001B[1m10/10\u001B[0m \u001B[32m━━━━━━━━━━━━━━━━━━━━\u001B[0m\u001B[37m\u001B[0m \u001B[1m0s\u001B[0m 19ms/step - accuracy: 0.6241 - loss: 0.8180\n",
      "Epoch 22/50\n",
      "\u001B[1m10/10\u001B[0m \u001B[32m━━━━━━━━━━━━━━━━━━━━\u001B[0m\u001B[37m\u001B[0m \u001B[1m0s\u001B[0m 20ms/step - accuracy: 0.6594 - loss: 0.8209\n",
      "Epoch 23/50\n",
      "\u001B[1m10/10\u001B[0m \u001B[32m━━━━━━━━━━━━━━━━━━━━\u001B[0m\u001B[37m\u001B[0m \u001B[1m0s\u001B[0m 20ms/step - accuracy: 0.7478 - loss: 0.6628\n",
      "Epoch 24/50\n",
      "\u001B[1m10/10\u001B[0m \u001B[32m━━━━━━━━━━━━━━━━━━━━\u001B[0m\u001B[37m\u001B[0m \u001B[1m0s\u001B[0m 20ms/step - accuracy: 0.6703 - loss: 0.7581\n",
      "Epoch 25/50\n",
      "\u001B[1m10/10\u001B[0m \u001B[32m━━━━━━━━━━━━━━━━━━━━\u001B[0m\u001B[37m\u001B[0m \u001B[1m0s\u001B[0m 30ms/step - accuracy: 0.6385 - loss: 0.8037\n",
      "Epoch 26/50\n",
      "\u001B[1m10/10\u001B[0m \u001B[32m━━━━━━━━━━━━━━━━━━━━\u001B[0m\u001B[37m\u001B[0m \u001B[1m0s\u001B[0m 36ms/step - accuracy: 0.6987 - loss: 0.7456\n",
      "Epoch 27/50\n",
      "\u001B[1m10/10\u001B[0m \u001B[32m━━━━━━━━━━━━━━━━━━━━\u001B[0m\u001B[37m\u001B[0m \u001B[1m0s\u001B[0m 33ms/step - accuracy: 0.6906 - loss: 0.7418\n",
      "Epoch 28/50\n",
      "\u001B[1m10/10\u001B[0m \u001B[32m━━━━━━━━━━━━━━━━━━━━\u001B[0m\u001B[37m\u001B[0m \u001B[1m0s\u001B[0m 38ms/step - accuracy: 0.7217 - loss: 0.7006\n",
      "Epoch 29/50\n",
      "\u001B[1m10/10\u001B[0m \u001B[32m━━━━━━━━━━━━━━━━━━━━\u001B[0m\u001B[37m\u001B[0m \u001B[1m0s\u001B[0m 31ms/step - accuracy: 0.6920 - loss: 0.6983\n",
      "Epoch 30/50\n",
      "\u001B[1m10/10\u001B[0m \u001B[32m━━━━━━━━━━━━━━━━━━━━\u001B[0m\u001B[37m\u001B[0m \u001B[1m0s\u001B[0m 22ms/step - accuracy: 0.6901 - loss: 0.6825\n",
      "Epoch 31/50\n",
      "\u001B[1m10/10\u001B[0m \u001B[32m━━━━━━━━━━━━━━━━━━━━\u001B[0m\u001B[37m\u001B[0m \u001B[1m0s\u001B[0m 18ms/step - accuracy: 0.6851 - loss: 0.6719\n",
      "Epoch 32/50\n",
      "\u001B[1m10/10\u001B[0m \u001B[32m━━━━━━━━━━━━━━━━━━━━\u001B[0m\u001B[37m\u001B[0m \u001B[1m0s\u001B[0m 19ms/step - accuracy: 0.7332 - loss: 0.6720\n",
      "Epoch 33/50\n",
      "\u001B[1m10/10\u001B[0m \u001B[32m━━━━━━━━━━━━━━━━━━━━\u001B[0m\u001B[37m\u001B[0m \u001B[1m0s\u001B[0m 18ms/step - accuracy: 0.7188 - loss: 0.6068\n",
      "Epoch 34/50\n",
      "\u001B[1m10/10\u001B[0m \u001B[32m━━━━━━━━━━━━━━━━━━━━\u001B[0m\u001B[37m\u001B[0m \u001B[1m0s\u001B[0m 20ms/step - accuracy: 0.7314 - loss: 0.6668\n",
      "Epoch 35/50\n",
      "\u001B[1m10/10\u001B[0m \u001B[32m━━━━━━━━━━━━━━━━━━━━\u001B[0m\u001B[37m\u001B[0m \u001B[1m0s\u001B[0m 19ms/step - accuracy: 0.7349 - loss: 0.6284\n",
      "Epoch 36/50\n",
      "\u001B[1m10/10\u001B[0m \u001B[32m━━━━━━━━━━━━━━━━━━━━\u001B[0m\u001B[37m\u001B[0m \u001B[1m0s\u001B[0m 18ms/step - accuracy: 0.7869 - loss: 0.5385\n",
      "Epoch 37/50\n",
      "\u001B[1m10/10\u001B[0m \u001B[32m━━━━━━━━━━━━━━━━━━━━\u001B[0m\u001B[37m\u001B[0m \u001B[1m0s\u001B[0m 18ms/step - accuracy: 0.7747 - loss: 0.5679\n",
      "Epoch 38/50\n",
      "\u001B[1m10/10\u001B[0m \u001B[32m━━━━━━━━━━━━━━━━━━━━\u001B[0m\u001B[37m\u001B[0m \u001B[1m0s\u001B[0m 20ms/step - accuracy: 0.7432 - loss: 0.6032\n",
      "Epoch 39/50\n",
      "\u001B[1m10/10\u001B[0m \u001B[32m━━━━━━━━━━━━━━━━━━━━\u001B[0m\u001B[37m\u001B[0m \u001B[1m0s\u001B[0m 18ms/step - accuracy: 0.7256 - loss: 0.6263\n",
      "Epoch 40/50\n",
      "\u001B[1m10/10\u001B[0m \u001B[32m━━━━━━━━━━━━━━━━━━━━\u001B[0m\u001B[37m\u001B[0m \u001B[1m0s\u001B[0m 18ms/step - accuracy: 0.7897 - loss: 0.5322\n",
      "Epoch 41/50\n",
      "\u001B[1m10/10\u001B[0m \u001B[32m━━━━━━━━━━━━━━━━━━━━\u001B[0m\u001B[37m\u001B[0m \u001B[1m0s\u001B[0m 18ms/step - accuracy: 0.7986 - loss: 0.5776\n",
      "Epoch 42/50\n",
      "\u001B[1m10/10\u001B[0m \u001B[32m━━━━━━━━━━━━━━━━━━━━\u001B[0m\u001B[37m\u001B[0m \u001B[1m0s\u001B[0m 18ms/step - accuracy: 0.8295 - loss: 0.4943\n",
      "Epoch 43/50\n",
      "\u001B[1m10/10\u001B[0m \u001B[32m━━━━━━━━━━━━━━━━━━━━\u001B[0m\u001B[37m\u001B[0m \u001B[1m0s\u001B[0m 17ms/step - accuracy: 0.7586 - loss: 0.5593\n",
      "Epoch 44/50\n",
      "\u001B[1m10/10\u001B[0m \u001B[32m━━━━━━━━━━━━━━━━━━━━\u001B[0m\u001B[37m\u001B[0m \u001B[1m0s\u001B[0m 17ms/step - accuracy: 0.8003 - loss: 0.5252\n",
      "Epoch 45/50\n",
      "\u001B[1m10/10\u001B[0m \u001B[32m━━━━━━━━━━━━━━━━━━━━\u001B[0m\u001B[37m\u001B[0m \u001B[1m0s\u001B[0m 17ms/step - accuracy: 0.7511 - loss: 0.5707\n",
      "Epoch 46/50\n",
      "\u001B[1m10/10\u001B[0m \u001B[32m━━━━━━━━━━━━━━━━━━━━\u001B[0m\u001B[37m\u001B[0m \u001B[1m0s\u001B[0m 17ms/step - accuracy: 0.8173 - loss: 0.4949\n",
      "Epoch 47/50\n",
      "\u001B[1m10/10\u001B[0m \u001B[32m━━━━━━━━━━━━━━━━━━━━\u001B[0m\u001B[37m\u001B[0m \u001B[1m0s\u001B[0m 17ms/step - accuracy: 0.8122 - loss: 0.4965\n",
      "Epoch 48/50\n",
      "\u001B[1m10/10\u001B[0m \u001B[32m━━━━━━━━━━━━━━━━━━━━\u001B[0m\u001B[37m\u001B[0m \u001B[1m0s\u001B[0m 17ms/step - accuracy: 0.8022 - loss: 0.5157\n",
      "Epoch 49/50\n",
      "\u001B[1m10/10\u001B[0m \u001B[32m━━━━━━━━━━━━━━━━━━━━\u001B[0m\u001B[37m\u001B[0m \u001B[1m0s\u001B[0m 17ms/step - accuracy: 0.8065 - loss: 0.5041\n",
      "Epoch 50/50\n",
      "\u001B[1m10/10\u001B[0m \u001B[32m━━━━━━━━━━━━━━━━━━━━\u001B[0m\u001B[37m\u001B[0m \u001B[1m0s\u001B[0m 18ms/step - accuracy: 0.8176 - loss: 0.4819\n"
     ]
    }
   ],
   "execution_count": 15
  },
  {
   "cell_type": "code",
   "id": "1fe56ff05dbeaba7",
   "metadata": {
    "ExecuteTime": {
     "end_time": "2025-02-15T20:44:48.894854Z",
     "start_time": "2025-02-15T20:44:48.890309Z"
    }
   },
   "source": [
    "history.history"
   ],
   "outputs": [
    {
     "data": {
      "text/plain": [
       "{'accuracy': [0.33125001192092896,\n",
       "  0.36250001192092896,\n",
       "  0.37187498807907104,\n",
       "  0.4124999940395355,\n",
       "  0.43437498807907104,\n",
       "  0.453125,\n",
       "  0.5062500238418579,\n",
       "  0.48124998807907104,\n",
       "  0.512499988079071,\n",
       "  0.4937500059604645,\n",
       "  0.518750011920929,\n",
       "  0.550000011920929,\n",
       "  0.574999988079071,\n",
       "  0.5218750238418579,\n",
       "  0.543749988079071,\n",
       "  0.581250011920929,\n",
       "  0.6000000238418579,\n",
       "  0.6343749761581421,\n",
       "  0.6312500238418579,\n",
       "  0.6156250238418579,\n",
       "  0.606249988079071,\n",
       "  0.625,\n",
       "  0.6937500238418579,\n",
       "  0.6343749761581421,\n",
       "  0.628125011920929,\n",
       "  0.699999988079071,\n",
       "  0.671875,\n",
       "  0.690625011920929,\n",
       "  0.6812499761581421,\n",
       "  0.668749988079071,\n",
       "  0.6781250238418579,\n",
       "  0.7093750238418579,\n",
       "  0.7093750238418579,\n",
       "  0.7093750238418579,\n",
       "  0.721875011920929,\n",
       "  0.7875000238418579,\n",
       "  0.734375,\n",
       "  0.7093750238418579,\n",
       "  0.7124999761581421,\n",
       "  0.746874988079071,\n",
       "  0.7749999761581421,\n",
       "  0.8031250238418579,\n",
       "  0.7593749761581421,\n",
       "  0.7906249761581421,\n",
       "  0.746874988079071,\n",
       "  0.8031250238418579,\n",
       "  0.793749988079071,\n",
       "  0.78125,\n",
       "  0.793749988079071,\n",
       "  0.7906249761581421],\n",
       " 'loss': [1.6043609380722046,\n",
       "  1.4177684783935547,\n",
       "  1.4298195838928223,\n",
       "  1.3756005764007568,\n",
       "  1.2658089399337769,\n",
       "  1.2355002164840698,\n",
       "  1.1157643795013428,\n",
       "  1.163914442062378,\n",
       "  1.090778112411499,\n",
       "  1.0939627885818481,\n",
       "  1.0451905727386475,\n",
       "  0.9603998064994812,\n",
       "  0.9440755844116211,\n",
       "  0.9099246263504028,\n",
       "  0.9921711087226868,\n",
       "  0.9045263528823853,\n",
       "  0.898622989654541,\n",
       "  0.8527019619941711,\n",
       "  0.8062509298324585,\n",
       "  0.8340798616409302,\n",
       "  0.8706530332565308,\n",
       "  0.8670520782470703,\n",
       "  0.7439428567886353,\n",
       "  0.7812268733978271,\n",
       "  0.8173701167106628,\n",
       "  0.7529999017715454,\n",
       "  0.7767123579978943,\n",
       "  0.7661110162734985,\n",
       "  0.7259642481803894,\n",
       "  0.7277158498764038,\n",
       "  0.7049733400344849,\n",
       "  0.7303905487060547,\n",
       "  0.652096152305603,\n",
       "  0.7223523259162903,\n",
       "  0.7002124190330505,\n",
       "  0.5797629356384277,\n",
       "  0.6336637735366821,\n",
       "  0.668860912322998,\n",
       "  0.6579254865646362,\n",
       "  0.6159905195236206,\n",
       "  0.6031713485717773,\n",
       "  0.5364490747451782,\n",
       "  0.5756473541259766,\n",
       "  0.5652557015419006,\n",
       "  0.5823405385017395,\n",
       "  0.5223051905632019,\n",
       "  0.5346771478652954,\n",
       "  0.5689546465873718,\n",
       "  0.5438448190689087,\n",
       "  0.5206525325775146]}"
      ]
     },
     "execution_count": 16,
     "metadata": {},
     "output_type": "execute_result"
    }
   ],
   "execution_count": 16
  },
  {
   "cell_type": "code",
   "id": "df8790a127a4cb86",
   "metadata": {
    "ExecuteTime": {
     "end_time": "2025-02-15T20:44:49.059252Z",
     "start_time": "2025-02-15T20:44:48.962988Z"
    }
   },
   "source": [
    "model.save(\"../models/sentiment_classification_model_original.keras\")"
   ],
   "outputs": [],
   "execution_count": 17
  },
  {
   "cell_type": "code",
   "id": "c7e99605cf3219b6",
   "metadata": {
    "ExecuteTime": {
     "end_time": "2025-02-15T20:44:49.210237Z",
     "start_time": "2025-02-15T20:44:49.067928Z"
    }
   },
   "source": [
    "plt.plot(history.history['accuracy'])\n",
    "plt.title('model accuracy')\n",
    "plt.ylabel('accuracy')\n",
    "plt.xlabel('epoch')"
   ],
   "outputs": [
    {
     "data": {
      "text/plain": [
       "Text(0.5, 0, 'epoch')"
      ]
     },
     "execution_count": 18,
     "metadata": {},
     "output_type": "execute_result"
    },
    {
     "data": {
      "text/plain": [
       "<Figure size 640x480 with 1 Axes>"
      ],
      "image/png": "[encoded data removed]"
     },
     "metadata": {},
     "output_type": "display_data"
    }
   ],
   "execution_count": 18
  },
  {
   "cell_type": "code",
   "id": "38714157b2e83e5b",
   "metadata": {
    "ExecuteTime": {
     "end_time": "2025-02-15T20:44:49.274662Z",
     "start_time": "2025-02-15T20:44:49.220286Z"
    }
   },
   "source": [
    "plt.plot(history.history['loss'])\n",
    "plt.title('model loss')\n",
    "plt.ylabel('loss')\n",
    "plt.xlabel('epoch')"
   ],
   "outputs": [
    {
     "data": {
      "text/plain": [
       "Text(0.5, 0, 'epoch')"
      ]
     },
     "execution_count": 19,
     "metadata": {},
     "output_type": "execute_result"
    },
    {
     "data": {
      "text/plain": [
       "<Figure size 640x480 with 1 Axes>"
      ],
      "image/png": "[encoded data removed]"
     },
     "metadata": {},
     "output_type": "display_data"
    }
   ],
   "execution_count": 19
  },
  {
   "cell_type": "code",
   "id": "a720201e2ca8243a",
   "metadata": {
    "ExecuteTime": {
     "end_time": "2025-02-15T20:44:49.513043Z",
     "start_time": "2025-02-15T20:44:49.284574Z"
    }
   },
   "source": [
    "evaluation = model.evaluate(X_test, y_test)"
   ],
   "outputs": [
    {
     "name": "stdout",
     "output_type": "stream",
     "text": [
      "\u001B[1m3/3\u001B[0m \u001B[32m━━━━━━━━━━━━━━━━━━━━\u001B[0m\u001B[37m\u001B[0m \u001B[1m0s\u001B[0m 26ms/step - accuracy: 0.6477 - loss: 0.7972 \n"
     ]
    }
   ],
   "execution_count": 20
  },
  {
   "cell_type": "code",
   "id": "3c76e72c66107d5e",
   "metadata": {
    "ExecuteTime": {
     "end_time": "2025-02-15T20:44:49.524012Z",
     "start_time": "2025-02-15T20:44:49.522307Z"
    }
   },
   "source": [
    "print(f'Loss: {evaluation[0]}, accuracy: {evaluation[1]}')"
   ],
   "outputs": [
    {
     "name": "stdout",
     "output_type": "stream",
     "text": [
      "Loss: 0.7640633583068848, accuracy: 0.6625000238418579\n"
     ]
    }
   ],
   "execution_count": 21
  },
  {
   "metadata": {},
   "cell_type": "markdown",
   "source": "### Confusion matrix",
   "id": "bd3f205e491de739"
  },
  {
   "metadata": {
    "ExecuteTime": {
     "end_time": "2025-02-15T20:44:49.536646Z",
     "start_time": "2025-02-15T20:44:49.533509Z"
    }
   },
   "cell_type": "code",
   "source": "y_test",
   "id": "2f82b24522f021ab",
   "outputs": [
    {
     "data": {
      "text/plain": [
       "10     0\n",
       "2      0\n",
       "94     0\n",
       "336    0\n",
       "391    0\n",
       "      ..\n",
       "227    0\n",
       "9      0\n",
       "236    0\n",
       "199    0\n",
       "330    1\n",
       "Name: Sentiment, Length: 80, dtype: int64"
      ]
     },
     "execution_count": 22,
     "metadata": {},
     "output_type": "execute_result"
    }
   ],
   "execution_count": 22
  },
  {
   "metadata": {
    "ExecuteTime": {
     "end_time": "2025-02-15T20:44:49.783552Z",
     "start_time": "2025-02-15T20:44:49.567510Z"
    }
   },
   "cell_type": "code",
   "source": [
    "predictions = model.predict(X_test).argmax(axis=1)\n",
    "print(\"Unique values in predictions:\", np.unique(predictions))\n",
    "\n",
    "print(\"Unique values in y_test:\", np.unique(y_test))\n"
   ],
   "id": "ec95ff1bf2aee8ef",
   "outputs": [
    {
     "name": "stdout",
     "output_type": "stream",
     "text": [
      "\u001B[1m3/3\u001B[0m \u001B[32m━━━━━━━━━━━━━━━━━━━━\u001B[0m\u001B[37m\u001B[0m \u001B[1m0s\u001B[0m 39ms/step\n",
      "Unique values in predictions: [0 1]\n",
      "Unique values in y_test: [0 1 2]\n"
     ]
    }
   ],
   "execution_count": 23
  },
  {
   "metadata": {
    "ExecuteTime": {
     "end_time": "2025-02-15T20:44:49.881045Z",
     "start_time": "2025-02-15T20:44:49.803514Z"
    }
   },
   "cell_type": "code",
   "source": [
    "matrix = confusion_matrix(y_test, predictions)\n",
    "print(matrix)\n",
    "display = ConfusionMatrixDisplay(matrix)\n",
    "display.plot()"
   ],
   "id": "ae7652144de07a1",
   "outputs": [
    {
     "name": "stdout",
     "output_type": "stream",
     "text": [
      "[[43  5  0]\n",
      " [17 10  0]\n",
      " [ 5  0  0]]\n"
     ]
    },
    {
     "data": {
      "text/plain": [
       "<sklearn.metrics._plot.confusion_matrix.ConfusionMatrixDisplay at 0x13058ac50>"
      ]
     },
     "execution_count": 24,
     "metadata": {},
     "output_type": "execute_result"
    },
    {
     "data": {
      "text/plain": [
       "<Figure size 640x480 with 2 Axes>"
      ],
      "image/png": "[encoded data removed]"
     },
     "metadata": {},
     "output_type": "display_data"
    }
   ],
   "execution_count": 24
  },
  {
   "cell_type": "code",
   "id": "5de5265f78e9a24f",
   "metadata": {
    "ExecuteTime": {
     "end_time": "2025-02-15T20:44:49.973613Z",
     "start_time": "2025-02-15T20:44:49.883718Z"
    }
   },
   "source": [
    "model = models.Sequential()\n",
    "\n",
    "model.add(layers.Input(shape=(26, 300), name=\"Domain_1\"))\n",
    "\n",
    "model.add(layers.Flatten())\n",
    "\n",
    "model.add(layers.Dense(200, activation='relu', name=\"layer_1\"))\n",
    "\n",
    "model.add(layers.Dropout(0.8, name=\"dropout_3\"))\n",
    "\n",
    "model.add(layers.BatchNormalization(name=\"batch_normalization_3\"))\n",
    "\n",
    "model.add(layers.Dense(100, activation='relu', name=\"layer_2\"))\n",
    "\n",
    "model.add(layers.Dropout(0.8, name=\"dropout_4\"))\n",
    "\n",
    "model.add(layers.BatchNormalization(name=\"batch_normalization_4\"))\n",
    "\n",
    "model.add(layers.Dense(3, activation='softmax', name=\"sentiment\"))\n",
    "\n",
    "model.compile(\n",
    "    optimizer='adam',\n",
    "    loss='sparse_categorical_crossentropy',\n",
    "    metrics=['accuracy']\n",
    ")\n",
    "\n",
    "model.summary()"
   ],
   "outputs": [
    {
     "data": {
      "text/plain": [
       "\u001B[1mModel: \"sequential_1\"\u001B[0m\n"
      ],
      "text/html": [
       "<pre style=\"white-space:pre;overflow-x:auto;line-height:normal;font-family:Menlo,'DejaVu Sans Mono',consolas,'Courier New',monospace\"><span style=\"font-weight: bold\">Model: \"sequential_1\"</span>\n",
       "</pre>\n"
      ]
     },
     "metadata": {},
     "output_type": "display_data"
    },
    {
     "data": {
      "text/plain": [
       "┏━━━━━━━━━━━━━━━━━━━━━━━━━━━━━━━━━┳━━━━━━━━━━━━━━━━━━━━━━━━┳━━━━━━━━━━━━━━━┓\n",
       "┃\u001B[1m \u001B[0m\u001B[1mLayer (type)                   \u001B[0m\u001B[1m \u001B[0m┃\u001B[1m \u001B[0m\u001B[1mOutput Shape          \u001B[0m\u001B[1m \u001B[0m┃\u001B[1m \u001B[0m\u001B[1m      Param #\u001B[0m\u001B[1m \u001B[0m┃\n",
       "┡━━━━━━━━━━━━━━━━━━━━━━━━━━━━━━━━━╇━━━━━━━━━━━━━━━━━━━━━━━━╇━━━━━━━━━━━━━━━┩\n",
       "│ flatten_1 (\u001B[38;5;33mFlatten\u001B[0m)             │ (\u001B[38;5;45mNone\u001B[0m, \u001B[38;5;34m7800\u001B[0m)           │             \u001B[38;5;34m0\u001B[0m │\n",
       "├─────────────────────────────────┼────────────────────────┼───────────────┤\n",
       "│ layer_1 (\u001B[38;5;33mDense\u001B[0m)                 │ (\u001B[38;5;45mNone\u001B[0m, \u001B[38;5;34m200\u001B[0m)            │     \u001B[38;5;34m1,560,200\u001B[0m │\n",
       "├─────────────────────────────────┼────────────────────────┼───────────────┤\n",
       "│ dropout_3 (\u001B[38;5;33mDropout\u001B[0m)             │ (\u001B[38;5;45mNone\u001B[0m, \u001B[38;5;34m200\u001B[0m)            │             \u001B[38;5;34m0\u001B[0m │\n",
       "├─────────────────────────────────┼────────────────────────┼───────────────┤\n",
       "│ batch_normalization_3           │ (\u001B[38;5;45mNone\u001B[0m, \u001B[38;5;34m200\u001B[0m)            │           \u001B[38;5;34m800\u001B[0m │\n",
       "│ (\u001B[38;5;33mBatchNormalization\u001B[0m)            │                        │               │\n",
       "├─────────────────────────────────┼────────────────────────┼───────────────┤\n",
       "│ layer_2 (\u001B[38;5;33mDense\u001B[0m)                 │ (\u001B[38;5;45mNone\u001B[0m, \u001B[38;5;34m100\u001B[0m)            │        \u001B[38;5;34m20,100\u001B[0m │\n",
       "├─────────────────────────────────┼────────────────────────┼───────────────┤\n",
       "│ dropout_4 (\u001B[38;5;33mDropout\u001B[0m)             │ (\u001B[38;5;45mNone\u001B[0m, \u001B[38;5;34m100\u001B[0m)            │             \u001B[38;5;34m0\u001B[0m │\n",
       "├─────────────────────────────────┼────────────────────────┼───────────────┤\n",
       "│ batch_normalization_4           │ (\u001B[38;5;45mNone\u001B[0m, \u001B[38;5;34m100\u001B[0m)            │           \u001B[38;5;34m400\u001B[0m │\n",
       "│ (\u001B[38;5;33mBatchNormalization\u001B[0m)            │                        │               │\n",
       "├─────────────────────────────────┼────────────────────────┼───────────────┤\n",
       "│ sentiment (\u001B[38;5;33mDense\u001B[0m)               │ (\u001B[38;5;45mNone\u001B[0m, \u001B[38;5;34m3\u001B[0m)              │           \u001B[38;5;34m303\u001B[0m │\n",
       "└─────────────────────────────────┴────────────────────────┴───────────────┘\n"
      ],
      "text/html": [
       "<pre style=\"white-space:pre;overflow-x:auto;line-height:normal;font-family:Menlo,'DejaVu Sans Mono',consolas,'Courier New',monospace\">┏━━━━━━━━━━━━━━━━━━━━━━━━━━━━━━━━━┳━━━━━━━━━━━━━━━━━━━━━━━━┳━━━━━━━━━━━━━━━┓\n",
       "┃<span style=\"font-weight: bold\"> Layer (type)                    </span>┃<span style=\"font-weight: bold\"> Output Shape           </span>┃<span style=\"font-weight: bold\">       Param # </span>┃\n",
       "┡━━━━━━━━━━━━━━━━━━━━━━━━━━━━━━━━━╇━━━━━━━━━━━━━━━━━━━━━━━━╇━━━━━━━━━━━━━━━┩\n",
       "│ flatten_1 (<span style=\"color: #0087ff; text-decoration-color: #0087ff\">Flatten</span>)             │ (<span style=\"color: #00d7ff; text-decoration-color: #00d7ff\">None</span>, <span style=\"color: #00af00; text-decoration-color: #00af00\">7800</span>)           │             <span style=\"color: #00af00; text-decoration-color: #00af00\">0</span> │\n",
       "├─────────────────────────────────┼────────────────────────┼───────────────┤\n",
       "│ layer_1 (<span style=\"color: #0087ff; text-decoration-color: #0087ff\">Dense</span>)                 │ (<span style=\"color: #00d7ff; text-decoration-color: #00d7ff\">None</span>, <span style=\"color: #00af00; text-decoration-color: #00af00\">200</span>)            │     <span style=\"color: #00af00; text-decoration-color: #00af00\">1,560,200</span> │\n",
       "├─────────────────────────────────┼────────────────────────┼───────────────┤\n",
       "│ dropout_3 (<span style=\"color: #0087ff; text-decoration-color: #0087ff\">Dropout</span>)             │ (<span style=\"color: #00d7ff; text-decoration-color: #00d7ff\">None</span>, <span style=\"color: #00af00; text-decoration-color: #00af00\">200</span>)            │             <span style=\"color: #00af00; text-decoration-color: #00af00\">0</span> │\n",
       "├─────────────────────────────────┼────────────────────────┼───────────────┤\n",
       "│ batch_normalization_3           │ (<span style=\"color: #00d7ff; text-decoration-color: #00d7ff\">None</span>, <span style=\"color: #00af00; text-decoration-color: #00af00\">200</span>)            │           <span style=\"color: #00af00; text-decoration-color: #00af00\">800</span> │\n",
       "│ (<span style=\"color: #0087ff; text-decoration-color: #0087ff\">BatchNormalization</span>)            │                        │               │\n",
       "├─────────────────────────────────┼────────────────────────┼───────────────┤\n",
       "│ layer_2 (<span style=\"color: #0087ff; text-decoration-color: #0087ff\">Dense</span>)                 │ (<span style=\"color: #00d7ff; text-decoration-color: #00d7ff\">None</span>, <span style=\"color: #00af00; text-decoration-color: #00af00\">100</span>)            │        <span style=\"color: #00af00; text-decoration-color: #00af00\">20,100</span> │\n",
       "├─────────────────────────────────┼────────────────────────┼───────────────┤\n",
       "│ dropout_4 (<span style=\"color: #0087ff; text-decoration-color: #0087ff\">Dropout</span>)             │ (<span style=\"color: #00d7ff; text-decoration-color: #00d7ff\">None</span>, <span style=\"color: #00af00; text-decoration-color: #00af00\">100</span>)            │             <span style=\"color: #00af00; text-decoration-color: #00af00\">0</span> │\n",
       "├─────────────────────────────────┼────────────────────────┼───────────────┤\n",
       "│ batch_normalization_4           │ (<span style=\"color: #00d7ff; text-decoration-color: #00d7ff\">None</span>, <span style=\"color: #00af00; text-decoration-color: #00af00\">100</span>)            │           <span style=\"color: #00af00; text-decoration-color: #00af00\">400</span> │\n",
       "│ (<span style=\"color: #0087ff; text-decoration-color: #0087ff\">BatchNormalization</span>)            │                        │               │\n",
       "├─────────────────────────────────┼────────────────────────┼───────────────┤\n",
       "│ sentiment (<span style=\"color: #0087ff; text-decoration-color: #0087ff\">Dense</span>)               │ (<span style=\"color: #00d7ff; text-decoration-color: #00d7ff\">None</span>, <span style=\"color: #00af00; text-decoration-color: #00af00\">3</span>)              │           <span style=\"color: #00af00; text-decoration-color: #00af00\">303</span> │\n",
       "└─────────────────────────────────┴────────────────────────┴───────────────┘\n",
       "</pre>\n"
      ]
     },
     "metadata": {},
     "output_type": "display_data"
    },
    {
     "data": {
      "text/plain": [
       "\u001B[1m Total params: \u001B[0m\u001B[38;5;34m1,581,803\u001B[0m (6.03 MB)\n"
      ],
      "text/html": [
       "<pre style=\"white-space:pre;overflow-x:auto;line-height:normal;font-family:Menlo,'DejaVu Sans Mono',consolas,'Courier New',monospace\"><span style=\"font-weight: bold\"> Total params: </span><span style=\"color: #00af00; text-decoration-color: #00af00\">1,581,803</span> (6.03 MB)\n",
       "</pre>\n"
      ]
     },
     "metadata": {},
     "output_type": "display_data"
    },
    {
     "data": {
      "text/plain": [
       "\u001B[1m Trainable params: \u001B[0m\u001B[38;5;34m1,581,203\u001B[0m (6.03 MB)\n"
      ],
      "text/html": [
       "<pre style=\"white-space:pre;overflow-x:auto;line-height:normal;font-family:Menlo,'DejaVu Sans Mono',consolas,'Courier New',monospace\"><span style=\"font-weight: bold\"> Trainable params: </span><span style=\"color: #00af00; text-decoration-color: #00af00\">1,581,203</span> (6.03 MB)\n",
       "</pre>\n"
      ]
     },
     "metadata": {},
     "output_type": "display_data"
    },
    {
     "data": {
      "text/plain": [
       "\u001B[1m Non-trainable params: \u001B[0m\u001B[38;5;34m600\u001B[0m (2.34 KB)\n"
      ],
      "text/html": [
       "<pre style=\"white-space:pre;overflow-x:auto;line-height:normal;font-family:Menlo,'DejaVu Sans Mono',consolas,'Courier New',monospace\"><span style=\"font-weight: bold\"> Non-trainable params: </span><span style=\"color: #00af00; text-decoration-color: #00af00\">600</span> (2.34 KB)\n",
       "</pre>\n"
      ]
     },
     "metadata": {},
     "output_type": "display_data"
    }
   ],
   "execution_count": 25
  },
  {
   "cell_type": "code",
   "id": "abf27427aa1f8e60",
   "metadata": {
    "ExecuteTime": {
     "end_time": "2025-02-15T20:44:50.136008Z",
     "start_time": "2025-02-15T20:44:49.993930Z"
    }
   },
   "source": [
    "df_with_unlabeled.info()"
   ],
   "outputs": [
    {
     "name": "stdout",
     "output_type": "stream",
     "text": [
      "<class 'pandas.core.frame.DataFrame'>\n",
      "Index: 7491 entries, 400 to 7890\n",
      "Data columns (total 6 columns):\n",
      " #   Column         Non-Null Count  Dtype  \n",
      "---  ------         --------------  -----  \n",
      " 0   text           7491 non-null   object \n",
      " 1   Sentiment      0 non-null      float64\n",
      " 2   Has opinion    0 non-null      float64\n",
      " 3   cleaned_text   7486 non-null   object \n",
      " 4   word_vectors   7491 non-null   object \n",
      " 5   glove_vectors  7491 non-null   object \n",
      "dtypes: float64(2), object(4)\n",
      "memory usage: 409.7+ KB\n"
     ]
    }
   ],
   "execution_count": 26
  },
  {
   "cell_type": "code",
   "id": "5b51cd1f0e64a364",
   "metadata": {
    "ExecuteTime": {
     "end_time": "2025-02-15T20:44:50.293134Z",
     "start_time": "2025-02-15T20:44:50.147746Z"
    }
   },
   "source": [
    "unlabeled_padded_vectors = np.load(\"../data/processed/padded_glove_vectors.npy\")[401:]\n",
    "# unlabeled_padded_vectors = unlabeled_padded_vectors.mean(axis=1)\n",
    "unlabeled_padded_vectors.shape"
   ],
   "outputs": [
    {
     "data": {
      "text/plain": [
       "(7490, 26, 300)"
      ]
     },
     "execution_count": 27,
     "metadata": {},
     "output_type": "execute_result"
    }
   ],
   "execution_count": 27
  },
  {
   "cell_type": "code",
   "id": "eca98d0ca076bab6",
   "metadata": {
    "ExecuteTime": {
     "end_time": "2025-02-15T20:44:50.309747Z",
     "start_time": "2025-02-15T20:44:50.307788Z"
    }
   },
   "source": [
    "print(\"Labeled data shape:\", padded_vectors.shape)  # Expect (198, 300)\n",
    "print(\"Unlabeled data shape:\", unlabeled_padded_vectors.shape)  # Expect (n, 300)\n"
   ],
   "outputs": [
    {
     "name": "stdout",
     "output_type": "stream",
     "text": [
      "Labeled data shape: (400, 26, 300)\n",
      "Unlabeled data shape: (7490, 26, 300)\n"
     ]
    }
   ],
   "execution_count": 28
  },
  {
   "cell_type": "code",
   "id": "1acf24fe20443991",
   "metadata": {
    "ExecuteTime": {
     "end_time": "2025-02-15T20:44:50.343750Z",
     "start_time": "2025-02-15T20:44:50.329480Z"
    }
   },
   "source": [
    "\n",
    "from scripts.DataDistillation import DataDistillation\n",
    "\n",
    "\n",
    "distillation = DataDistillation(\n",
    "    model,\n",
    "    (padded_vectors, df_original[\"Sentiment\"]),\n",
    "    unlabeled_padded_vectors, epochs=50, pseudo_batch_size=1000, random_state=1, validation_split=0.2, should_stratify=True\n",
    ")\n"
   ],
   "outputs": [],
   "execution_count": 29
  },
  {
   "cell_type": "code",
   "id": "ed5588cc",
   "metadata": {
    "ExecuteTime": {
     "end_time": "2025-02-15T20:47:23.910298Z",
     "start_time": "2025-02-15T20:46:49.640804Z"
    }
   },
   "source": "distillation.start()",
   "outputs": [
    {
     "name": "stdout",
     "output_type": "stream",
     "text": [
      "Starting Data Distillation\n",
      "Training model on labeled training data...\n",
      "Evaluating model on internal validation set...\n",
      "Teacher performance on internal validation set: 0.6625000238418579\n",
      "Starting iteration 1\n",
      "Teacher predicting next unlabeled data batch with shape: (1000, 26, 300)\n",
      "Pseudo-labeled samples in this iteration: 1000\n",
      "Training student on combined data with size (812, 26, 300)\n",
      "Evaluating model on internal validation set...\n",
      "Student performance on internal validation set: 0.637499988079071\n",
      "Student did not outperform teacher. Stopping data distillation.\n",
      "Data distillation process completed.\n",
      "Final teacher performance on internal validation set: 0.6625000238418579\n"
     ]
    }
   ],
   "execution_count": 30
  },
  {
   "metadata": {},
   "cell_type": "code",
   "source": [
    "matrix = confusion_matrix(y_test, model.predict(X_test).argmax(axis=1))\n",
    "display = ConfusionMatrixDisplay(matrix)\n",
    "display.plot()"
   ],
   "id": "b3968dccca8b9376",
   "outputs": [],
   "execution_count": null
  }
 ],
 "metadata": {
  "kernelspec": {
   "display_name": "diplomova_praca_kod",
   "language": "python",
   "name": "python3"
  },
  "language_info": {
   "codemirror_mode": {
    "name": "ipython",
    "version": 3
   },
   "file_extension": ".py",
   "mimetype": "text/x-python",
   "name": "python",
   "nbconvert_exporter": "python",
   "pygments_lexer": "ipython3",
   "version": "3.11.11"
  }
 },
 "nbformat": 4,
 "nbformat_minor": 5
}
