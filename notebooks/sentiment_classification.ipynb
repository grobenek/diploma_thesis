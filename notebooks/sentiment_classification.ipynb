{
 "cells": [
  {
   "cell_type": "code",
   "id": "fbb5be07f1da51f3",
   "metadata": {
    "ExecuteTime": {
     "end_time": "2025-02-08T22:12:54.002542Z",
     "start_time": "2025-02-08T22:12:48.544632Z"
    }
   },
   "source": [
    "from keras.api import layers, models\n",
    "import pandas as pd\n",
    "import numpy as np\n",
    "from sklearn.model_selection import train_test_split\n",
    "import matplotlib.pyplot as plt"
   ],
   "outputs": [],
   "execution_count": 1
  },
  {
   "cell_type": "markdown",
   "id": "ec737c3ab1d36cf",
   "metadata": {},
   "source": [
    "Sentiment has 3 classes"
   ]
  },
  {
   "cell_type": "code",
   "id": "initial_id",
   "metadata": {
    "collapsed": true,
    "ExecuteTime": {
     "end_time": "2025-02-08T22:12:54.440725Z",
     "start_time": "2025-02-08T22:12:54.172644Z"
    }
   },
   "source": [
    "model = models.Sequential()\n",
    "\n",
    "model.add(layers.Input(shape=(300,), name=\"Domain_1\"))\n",
    "\n",
    "model.add(layers.Dense(200, activation='relu', name=\"layer_1\"))\n",
    "\n",
    "model.add(layers.Dropout(0.5, name=\"dropout_3\"))\n",
    "\n",
    "model.add(layers.BatchNormalization(name=\"batch_normalization_3\"))\n",
    "\n",
    "model.add(layers.Dense(100, activation='relu', name=\"layer_2\"))\n",
    "\n",
    "model.add(layers.Dropout(0.5, name=\"dropout_4\"))\n",
    "\n",
    "model.add(layers.BatchNormalization(name=\"batch_normalization_4\"))\n",
    "\n",
    "model.add(layers.Dense(3, activation='softmax', name=\"sentiment\"))\n",
    "\n",
    "model.compile(\n",
    "    optimizer='adam',\n",
    "    loss='sparse_categorical_crossentropy',\n",
    "    metrics=['accuracy']\n",
    ")\n",
    "\n",
    "model.summary()"
   ],
   "outputs": [
    {
     "name": "stderr",
     "output_type": "stream",
     "text": [
      "2025-02-08 23:12:54.177372: I metal_plugin/src/device/metal_device.cc:1154] Metal device set to: Apple M1\n",
      "2025-02-08 23:12:54.177405: I metal_plugin/src/device/metal_device.cc:296] systemMemory: 8.00 GB\n",
      "2025-02-08 23:12:54.177413: I metal_plugin/src/device/metal_device.cc:313] maxCacheSize: 2.67 GB\n",
      "WARNING: All log messages before absl::InitializeLog() is called are written to STDERR\n",
      "I0000 00:00:1739052774.177428 2310351 pluggable_device_factory.cc:305] Could not identify NUMA node of platform GPU ID 0, defaulting to 0. Your kernel may not have been built with NUMA support.\n",
      "I0000 00:00:1739052774.177450 2310351 pluggable_device_factory.cc:271] Created TensorFlow device (/job:localhost/replica:0/task:0/device:GPU:0 with 0 MB memory) -> physical PluggableDevice (device: 0, name: METAL, pci bus id: <undefined>)\n"
     ]
    },
    {
     "data": {
      "text/plain": [
       "\u001B[1mModel: \"sequential\"\u001B[0m\n"
      ],
      "text/html": [
       "<pre style=\"white-space:pre;overflow-x:auto;line-height:normal;font-family:Menlo,'DejaVu Sans Mono',consolas,'Courier New',monospace\"><span style=\"font-weight: bold\">Model: \"sequential\"</span>\n",
       "</pre>\n"
      ]
     },
     "metadata": {},
     "output_type": "display_data"
    },
    {
     "data": {
      "text/plain": [
       "┏━━━━━━━━━━━━━━━━━━━━━━━━━━━━━━━━━┳━━━━━━━━━━━━━━━━━━━━━━━━┳━━━━━━━━━━━━━━━┓\n",
       "┃\u001B[1m \u001B[0m\u001B[1mLayer (type)                   \u001B[0m\u001B[1m \u001B[0m┃\u001B[1m \u001B[0m\u001B[1mOutput Shape          \u001B[0m\u001B[1m \u001B[0m┃\u001B[1m \u001B[0m\u001B[1m      Param #\u001B[0m\u001B[1m \u001B[0m┃\n",
       "┡━━━━━━━━━━━━━━━━━━━━━━━━━━━━━━━━━╇━━━━━━━━━━━━━━━━━━━━━━━━╇━━━━━━━━━━━━━━━┩\n",
       "│ layer_1 (\u001B[38;5;33mDense\u001B[0m)                 │ (\u001B[38;5;45mNone\u001B[0m, \u001B[38;5;34m200\u001B[0m)            │        \u001B[38;5;34m60,200\u001B[0m │\n",
       "├─────────────────────────────────┼────────────────────────┼───────────────┤\n",
       "│ dropout_3 (\u001B[38;5;33mDropout\u001B[0m)             │ (\u001B[38;5;45mNone\u001B[0m, \u001B[38;5;34m200\u001B[0m)            │             \u001B[38;5;34m0\u001B[0m │\n",
       "├─────────────────────────────────┼────────────────────────┼───────────────┤\n",
       "│ batch_normalization_3           │ (\u001B[38;5;45mNone\u001B[0m, \u001B[38;5;34m200\u001B[0m)            │           \u001B[38;5;34m800\u001B[0m │\n",
       "│ (\u001B[38;5;33mBatchNormalization\u001B[0m)            │                        │               │\n",
       "├─────────────────────────────────┼────────────────────────┼───────────────┤\n",
       "│ layer_2 (\u001B[38;5;33mDense\u001B[0m)                 │ (\u001B[38;5;45mNone\u001B[0m, \u001B[38;5;34m100\u001B[0m)            │        \u001B[38;5;34m20,100\u001B[0m │\n",
       "├─────────────────────────────────┼────────────────────────┼───────────────┤\n",
       "│ dropout_4 (\u001B[38;5;33mDropout\u001B[0m)             │ (\u001B[38;5;45mNone\u001B[0m, \u001B[38;5;34m100\u001B[0m)            │             \u001B[38;5;34m0\u001B[0m │\n",
       "├─────────────────────────────────┼────────────────────────┼───────────────┤\n",
       "│ batch_normalization_4           │ (\u001B[38;5;45mNone\u001B[0m, \u001B[38;5;34m100\u001B[0m)            │           \u001B[38;5;34m400\u001B[0m │\n",
       "│ (\u001B[38;5;33mBatchNormalization\u001B[0m)            │                        │               │\n",
       "├─────────────────────────────────┼────────────────────────┼───────────────┤\n",
       "│ sentiment (\u001B[38;5;33mDense\u001B[0m)               │ (\u001B[38;5;45mNone\u001B[0m, \u001B[38;5;34m3\u001B[0m)              │           \u001B[38;5;34m303\u001B[0m │\n",
       "└─────────────────────────────────┴────────────────────────┴───────────────┘\n"
      ],
      "text/html": [
       "<pre style=\"white-space:pre;overflow-x:auto;line-height:normal;font-family:Menlo,'DejaVu Sans Mono',consolas,'Courier New',monospace\">┏━━━━━━━━━━━━━━━━━━━━━━━━━━━━━━━━━┳━━━━━━━━━━━━━━━━━━━━━━━━┳━━━━━━━━━━━━━━━┓\n",
       "┃<span style=\"font-weight: bold\"> Layer (type)                    </span>┃<span style=\"font-weight: bold\"> Output Shape           </span>┃<span style=\"font-weight: bold\">       Param # </span>┃\n",
       "┡━━━━━━━━━━━━━━━━━━━━━━━━━━━━━━━━━╇━━━━━━━━━━━━━━━━━━━━━━━━╇━━━━━━━━━━━━━━━┩\n",
       "│ layer_1 (<span style=\"color: #0087ff; text-decoration-color: #0087ff\">Dense</span>)                 │ (<span style=\"color: #00d7ff; text-decoration-color: #00d7ff\">None</span>, <span style=\"color: #00af00; text-decoration-color: #00af00\">200</span>)            │        <span style=\"color: #00af00; text-decoration-color: #00af00\">60,200</span> │\n",
       "├─────────────────────────────────┼────────────────────────┼───────────────┤\n",
       "│ dropout_3 (<span style=\"color: #0087ff; text-decoration-color: #0087ff\">Dropout</span>)             │ (<span style=\"color: #00d7ff; text-decoration-color: #00d7ff\">None</span>, <span style=\"color: #00af00; text-decoration-color: #00af00\">200</span>)            │             <span style=\"color: #00af00; text-decoration-color: #00af00\">0</span> │\n",
       "├─────────────────────────────────┼────────────────────────┼───────────────┤\n",
       "│ batch_normalization_3           │ (<span style=\"color: #00d7ff; text-decoration-color: #00d7ff\">None</span>, <span style=\"color: #00af00; text-decoration-color: #00af00\">200</span>)            │           <span style=\"color: #00af00; text-decoration-color: #00af00\">800</span> │\n",
       "│ (<span style=\"color: #0087ff; text-decoration-color: #0087ff\">BatchNormalization</span>)            │                        │               │\n",
       "├─────────────────────────────────┼────────────────────────┼───────────────┤\n",
       "│ layer_2 (<span style=\"color: #0087ff; text-decoration-color: #0087ff\">Dense</span>)                 │ (<span style=\"color: #00d7ff; text-decoration-color: #00d7ff\">None</span>, <span style=\"color: #00af00; text-decoration-color: #00af00\">100</span>)            │        <span style=\"color: #00af00; text-decoration-color: #00af00\">20,100</span> │\n",
       "├─────────────────────────────────┼────────────────────────┼───────────────┤\n",
       "│ dropout_4 (<span style=\"color: #0087ff; text-decoration-color: #0087ff\">Dropout</span>)             │ (<span style=\"color: #00d7ff; text-decoration-color: #00d7ff\">None</span>, <span style=\"color: #00af00; text-decoration-color: #00af00\">100</span>)            │             <span style=\"color: #00af00; text-decoration-color: #00af00\">0</span> │\n",
       "├─────────────────────────────────┼────────────────────────┼───────────────┤\n",
       "│ batch_normalization_4           │ (<span style=\"color: #00d7ff; text-decoration-color: #00d7ff\">None</span>, <span style=\"color: #00af00; text-decoration-color: #00af00\">100</span>)            │           <span style=\"color: #00af00; text-decoration-color: #00af00\">400</span> │\n",
       "│ (<span style=\"color: #0087ff; text-decoration-color: #0087ff\">BatchNormalization</span>)            │                        │               │\n",
       "├─────────────────────────────────┼────────────────────────┼───────────────┤\n",
       "│ sentiment (<span style=\"color: #0087ff; text-decoration-color: #0087ff\">Dense</span>)               │ (<span style=\"color: #00d7ff; text-decoration-color: #00d7ff\">None</span>, <span style=\"color: #00af00; text-decoration-color: #00af00\">3</span>)              │           <span style=\"color: #00af00; text-decoration-color: #00af00\">303</span> │\n",
       "└─────────────────────────────────┴────────────────────────┴───────────────┘\n",
       "</pre>\n"
      ]
     },
     "metadata": {},
     "output_type": "display_data"
    },
    {
     "data": {
      "text/plain": [
       "\u001B[1m Total params: \u001B[0m\u001B[38;5;34m81,803\u001B[0m (319.54 KB)\n"
      ],
      "text/html": [
       "<pre style=\"white-space:pre;overflow-x:auto;line-height:normal;font-family:Menlo,'DejaVu Sans Mono',consolas,'Courier New',monospace\"><span style=\"font-weight: bold\"> Total params: </span><span style=\"color: #00af00; text-decoration-color: #00af00\">81,803</span> (319.54 KB)\n",
       "</pre>\n"
      ]
     },
     "metadata": {},
     "output_type": "display_data"
    },
    {
     "data": {
      "text/plain": [
       "\u001B[1m Trainable params: \u001B[0m\u001B[38;5;34m81,203\u001B[0m (317.20 KB)\n"
      ],
      "text/html": [
       "<pre style=\"white-space:pre;overflow-x:auto;line-height:normal;font-family:Menlo,'DejaVu Sans Mono',consolas,'Courier New',monospace\"><span style=\"font-weight: bold\"> Trainable params: </span><span style=\"color: #00af00; text-decoration-color: #00af00\">81,203</span> (317.20 KB)\n",
       "</pre>\n"
      ]
     },
     "metadata": {},
     "output_type": "display_data"
    },
    {
     "data": {
      "text/plain": [
       "\u001B[1m Non-trainable params: \u001B[0m\u001B[38;5;34m600\u001B[0m (2.34 KB)\n"
      ],
      "text/html": [
       "<pre style=\"white-space:pre;overflow-x:auto;line-height:normal;font-family:Menlo,'DejaVu Sans Mono',consolas,'Courier New',monospace\"><span style=\"font-weight: bold\"> Non-trainable params: </span><span style=\"color: #00af00; text-decoration-color: #00af00\">600</span> (2.34 KB)\n",
       "</pre>\n"
      ]
     },
     "metadata": {},
     "output_type": "display_data"
    }
   ],
   "execution_count": 2
  },
  {
   "cell_type": "code",
   "id": "70cfb9d6daca196f",
   "metadata": {
    "ExecuteTime": {
     "end_time": "2025-02-08T22:12:59.439735Z",
     "start_time": "2025-02-08T22:12:54.491664Z"
    }
   },
   "source": [
    "df_original = pd.read_csv(\"../data/processed/processed_tweets.csv\")"
   ],
   "outputs": [],
   "execution_count": 3
  },
  {
   "cell_type": "code",
   "id": "350010b4fa83b17b",
   "metadata": {
    "ExecuteTime": {
     "end_time": "2025-02-08T22:12:59.474826Z",
     "start_time": "2025-02-08T22:12:59.457379Z"
    }
   },
   "source": [
    "df_with_unlabeled = df_original.copy()\n",
    "df_with_unlabeled = df_with_unlabeled[df_with_unlabeled[\"Sentiment\"].isna()]\n",
    "df_original = df_original.dropna(subset=[\"Sentiment\"])\n",
    "df_original.info()"
   ],
   "outputs": [
    {
     "name": "stdout",
     "output_type": "stream",
     "text": [
      "<class 'pandas.core.frame.DataFrame'>\n",
      "Index: 198 entries, 0 to 197\n",
      "Data columns (total 5 columns):\n",
      " #   Column        Non-Null Count  Dtype  \n",
      "---  ------        --------------  -----  \n",
      " 0   text          198 non-null    object \n",
      " 1   Sentiment     198 non-null    float64\n",
      " 2   Has opinion   198 non-null    float64\n",
      " 3   cleaned_text  198 non-null    object \n",
      " 4   word_vectors  198 non-null    object \n",
      "dtypes: float64(2), object(3)\n",
      "memory usage: 9.3+ KB\n"
     ]
    }
   ],
   "execution_count": 4
  },
  {
   "cell_type": "code",
   "id": "fc3f73a30d162a9b",
   "metadata": {
    "ExecuteTime": {
     "end_time": "2025-02-08T22:12:59.500457Z",
     "start_time": "2025-02-08T22:12:59.492899Z"
    }
   },
   "source": [
    "df_original.head()"
   ],
   "outputs": [
    {
     "data": {
      "text/plain": [
       "                                                text  Sentiment  Has opinion  \\\n",
       "0  iPad: “Welcome to Apple Intelligence the newes...       -1.0          0.0   \n",
       "1  I believe they call it \"Apple Intelligence\", Sara        0.0          0.0   \n",
       "2  Unfortunately, there's \"Apple Intelligence\" ad...       -1.0          0.0   \n",
       "3  i did turn it off globally but idk how off it ...        0.0          0.0   \n",
       "4  Uh…yeah. Yes, do that, Apple. I’m fine with th...       -1.0          0.0   \n",
       "\n",
       "                                        cleaned_text  \\\n",
       "0     ipad welcome apple intelligence new     ipad     \n",
       "1               believe call apple intelligence sara   \n",
       "2  unfortunately apple intelligence add software ...   \n",
       "3                            turn globally idk truly   \n",
       "4         uhyeah yes apple fine   leave intelligence   \n",
       "\n",
       "                                        word_vectors  \n",
       "0  [array([-2.04101562e-01, -1.73828125e-01, -2.2...  \n",
       "1  [array([-0.1640625 ,  0.01080322,  0.03320312,...  \n",
       "2  [array([ 8.39233398e-04,  2.33154297e-02, -1.9...  \n",
       "3  [array([-0.06298828,  0.10693359, -0.00549316,...  \n",
       "4  [array([ 1.15722656e-01, -1.29882812e-01,  6.5...  "
      ],
      "text/html": [
       "<div>\n",
       "<style scoped>\n",
       "    .dataframe tbody tr th:only-of-type {\n",
       "        vertical-align: middle;\n",
       "    }\n",
       "\n",
       "    .dataframe tbody tr th {\n",
       "        vertical-align: top;\n",
       "    }\n",
       "\n",
       "    .dataframe thead th {\n",
       "        text-align: right;\n",
       "    }\n",
       "</style>\n",
       "<table border=\"1\" class=\"dataframe\">\n",
       "  <thead>\n",
       "    <tr style=\"text-align: right;\">\n",
       "      <th></th>\n",
       "      <th>text</th>\n",
       "      <th>Sentiment</th>\n",
       "      <th>Has opinion</th>\n",
       "      <th>cleaned_text</th>\n",
       "      <th>word_vectors</th>\n",
       "    </tr>\n",
       "  </thead>\n",
       "  <tbody>\n",
       "    <tr>\n",
       "      <th>0</th>\n",
       "      <td>iPad: “Welcome to Apple Intelligence the newes...</td>\n",
       "      <td>-1.0</td>\n",
       "      <td>0.0</td>\n",
       "      <td>ipad welcome apple intelligence new     ipad</td>\n",
       "      <td>[array([-2.04101562e-01, -1.73828125e-01, -2.2...</td>\n",
       "    </tr>\n",
       "    <tr>\n",
       "      <th>1</th>\n",
       "      <td>I believe they call it \"Apple Intelligence\", Sara</td>\n",
       "      <td>0.0</td>\n",
       "      <td>0.0</td>\n",
       "      <td>believe call apple intelligence sara</td>\n",
       "      <td>[array([-0.1640625 ,  0.01080322,  0.03320312,...</td>\n",
       "    </tr>\n",
       "    <tr>\n",
       "      <th>2</th>\n",
       "      <td>Unfortunately, there's \"Apple Intelligence\" ad...</td>\n",
       "      <td>-1.0</td>\n",
       "      <td>0.0</td>\n",
       "      <td>unfortunately apple intelligence add software ...</td>\n",
       "      <td>[array([ 8.39233398e-04,  2.33154297e-02, -1.9...</td>\n",
       "    </tr>\n",
       "    <tr>\n",
       "      <th>3</th>\n",
       "      <td>i did turn it off globally but idk how off it ...</td>\n",
       "      <td>0.0</td>\n",
       "      <td>0.0</td>\n",
       "      <td>turn globally idk truly</td>\n",
       "      <td>[array([-0.06298828,  0.10693359, -0.00549316,...</td>\n",
       "    </tr>\n",
       "    <tr>\n",
       "      <th>4</th>\n",
       "      <td>Uh…yeah. Yes, do that, Apple. I’m fine with th...</td>\n",
       "      <td>-1.0</td>\n",
       "      <td>0.0</td>\n",
       "      <td>uhyeah yes apple fine   leave intelligence</td>\n",
       "      <td>[array([ 1.15722656e-01, -1.29882812e-01,  6.5...</td>\n",
       "    </tr>\n",
       "  </tbody>\n",
       "</table>\n",
       "</div>"
      ]
     },
     "execution_count": 5,
     "metadata": {},
     "output_type": "execute_result"
    }
   ],
   "execution_count": 5
  },
  {
   "cell_type": "code",
   "id": "68d193db70b51e72",
   "metadata": {
    "ExecuteTime": {
     "end_time": "2025-02-08T22:12:59.615074Z",
     "start_time": "2025-02-08T22:12:59.528929Z"
    }
   },
   "source": [
    "padded_vectors = np.load(\"../data/processed/padded_vectors.npy\")\n",
    "padded_vectors = padded_vectors[:198]"
   ],
   "outputs": [],
   "execution_count": 6
  },
  {
   "cell_type": "code",
   "id": "6065b5a84687708a",
   "metadata": {
    "ExecuteTime": {
     "end_time": "2025-02-08T22:12:59.665789Z",
     "start_time": "2025-02-08T22:12:59.661444Z"
    }
   },
   "source": [
    "padded_vectors.shape"
   ],
   "outputs": [
    {
     "data": {
      "text/plain": [
       "(198, 26, 300)"
      ]
     },
     "execution_count": 7,
     "metadata": {},
     "output_type": "execute_result"
    }
   ],
   "execution_count": 7
  },
  {
   "cell_type": "code",
   "id": "e8aa6b57543dca03",
   "metadata": {
    "ExecuteTime": {
     "end_time": "2025-02-08T22:12:59.689363Z",
     "start_time": "2025-02-08T22:12:59.683791Z"
    }
   },
   "source": [
    "padded_vectors_average = np.mean(padded_vectors, axis=1)"
   ],
   "outputs": [],
   "execution_count": 8
  },
  {
   "cell_type": "code",
   "id": "9bef18ce8433a625",
   "metadata": {
    "ExecuteTime": {
     "end_time": "2025-02-08T22:12:59.701754Z",
     "start_time": "2025-02-08T22:12:59.694617Z"
    }
   },
   "source": "X_train, X_test, y_train, y_test = train_test_split(padded_vectors_average, df_original[\"Sentiment\"], test_size=0.2, random_state=1)",
   "outputs": [],
   "execution_count": 9
  },
  {
   "cell_type": "code",
   "id": "cc4212268a63eaf7",
   "metadata": {
    "ExecuteTime": {
     "end_time": "2025-02-08T22:12:59.712264Z",
     "start_time": "2025-02-08T22:12:59.706892Z"
    }
   },
   "source": [
    "X_train.shape"
   ],
   "outputs": [
    {
     "data": {
      "text/plain": [
       "(158, 300)"
      ]
     },
     "execution_count": 10,
     "metadata": {},
     "output_type": "execute_result"
    }
   ],
   "execution_count": 10
  },
  {
   "cell_type": "code",
   "id": "eb4cf15284ac4ca5",
   "metadata": {
    "ExecuteTime": {
     "end_time": "2025-02-08T22:13:02.190193Z",
     "start_time": "2025-02-08T22:12:59.732935Z"
    }
   },
   "source": "history = model.fit(x=X_train, y=y_train, epochs=10)",
   "outputs": [
    {
     "name": "stdout",
     "output_type": "stream",
     "text": [
      "Epoch 1/10\n"
     ]
    },
    {
     "name": "stderr",
     "output_type": "stream",
     "text": [
      "2025-02-08 23:13:00.217444: I tensorflow/core/grappler/optimizers/custom_graph_optimizer_registry.cc:117] Plugin optimizer for device_type GPU is enabled.\n"
     ]
    },
    {
     "name": "stdout",
     "output_type": "stream",
     "text": [
      "\u001B[1m5/5\u001B[0m \u001B[32m━━━━━━━━━━━━━━━━━━━━\u001B[0m\u001B[37m\u001B[0m \u001B[1m2s\u001B[0m 53ms/step - accuracy: 0.1379 - loss: 0.6004\n",
      "Epoch 2/10\n",
      "\u001B[1m5/5\u001B[0m \u001B[32m━━━━━━━━━━━━━━━━━━━━\u001B[0m\u001B[37m\u001B[0m \u001B[1m0s\u001B[0m 15ms/step - accuracy: 0.1385 - loss: 0.4821\n",
      "Epoch 3/10\n",
      "\u001B[1m5/5\u001B[0m \u001B[32m━━━━━━━━━━━━━━━━━━━━\u001B[0m\u001B[37m\u001B[0m \u001B[1m0s\u001B[0m 15ms/step - accuracy: 0.1484 - loss: 0.6058\n",
      "Epoch 4/10\n",
      "\u001B[1m5/5\u001B[0m \u001B[32m━━━━━━━━━━━━━━━━━━━━\u001B[0m\u001B[37m\u001B[0m \u001B[1m0s\u001B[0m 15ms/step - accuracy: 0.2305 - loss: 0.3178\n",
      "Epoch 5/10\n",
      "\u001B[1m5/5\u001B[0m \u001B[32m━━━━━━━━━━━━━━━━━━━━\u001B[0m\u001B[37m\u001B[0m \u001B[1m0s\u001B[0m 14ms/step - accuracy: 0.2070 - loss: 0.3769\n",
      "Epoch 6/10\n",
      "\u001B[1m5/5\u001B[0m \u001B[32m━━━━━━━━━━━━━━━━━━━━\u001B[0m\u001B[37m\u001B[0m \u001B[1m0s\u001B[0m 15ms/step - accuracy: 0.1824 - loss: 0.4300\n",
      "Epoch 7/10\n",
      "\u001B[1m5/5\u001B[0m \u001B[32m━━━━━━━━━━━━━━━━━━━━\u001B[0m\u001B[37m\u001B[0m \u001B[1m0s\u001B[0m 14ms/step - accuracy: 0.2148 - loss: 0.3659\n",
      "Epoch 8/10\n",
      "\u001B[1m5/5\u001B[0m \u001B[32m━━━━━━━━━━━━━━━━━━━━\u001B[0m\u001B[37m\u001B[0m \u001B[1m0s\u001B[0m 14ms/step - accuracy: 0.1622 - loss: 0.3246\n",
      "Epoch 9/10\n",
      "\u001B[1m5/5\u001B[0m \u001B[32m━━━━━━━━━━━━━━━━━━━━\u001B[0m\u001B[37m\u001B[0m \u001B[1m0s\u001B[0m 16ms/step - accuracy: 0.2128 - loss: 0.4006\n",
      "Epoch 10/10\n",
      "\u001B[1m5/5\u001B[0m \u001B[32m━━━━━━━━━━━━━━━━━━━━\u001B[0m\u001B[37m\u001B[0m \u001B[1m0s\u001B[0m 15ms/step - accuracy: 0.2506 - loss: 0.3023\n"
     ]
    }
   ],
   "execution_count": 11
  },
  {
   "cell_type": "code",
   "id": "1fe56ff05dbeaba7",
   "metadata": {
    "ExecuteTime": {
     "end_time": "2025-02-08T22:13:02.196115Z",
     "start_time": "2025-02-08T22:13:02.193863Z"
    }
   },
   "source": [
    "history.history"
   ],
   "outputs": [
    {
     "data": {
      "text/plain": [
       "{'accuracy': [0.14556962251663208,\n",
       "  0.13291139900684357,\n",
       "  0.1835443079471588,\n",
       "  0.22151899337768555,\n",
       "  0.18987341225147247,\n",
       "  0.2151898741722107,\n",
       "  0.2278480976819992,\n",
       "  0.19620253145694733,\n",
       "  0.2151898741722107,\n",
       "  0.2594936788082123],\n",
       " 'loss': [0.5545329451560974,\n",
       "  0.5832111835479736,\n",
       "  0.5104345083236694,\n",
       "  0.352226197719574,\n",
       "  0.40395858883857727,\n",
       "  0.38449475169181824,\n",
       "  0.34366393089294434,\n",
       "  0.3597225546836853,\n",
       "  0.3571707606315613,\n",
       "  0.2943795621395111]}"
      ]
     },
     "execution_count": 12,
     "metadata": {},
     "output_type": "execute_result"
    }
   ],
   "execution_count": 12
  },
  {
   "cell_type": "code",
   "id": "df8790a127a4cb86",
   "metadata": {
    "ExecuteTime": {
     "end_time": "2025-02-08T22:13:02.268571Z",
     "start_time": "2025-02-08T22:13:02.212310Z"
    }
   },
   "source": [
    "model.save(\"../models/sentiment_classification_model_original.keras\")"
   ],
   "outputs": [],
   "execution_count": 13
  },
  {
   "cell_type": "code",
   "id": "c7e99605cf3219b6",
   "metadata": {
    "ExecuteTime": {
     "end_time": "2025-02-08T22:13:02.552129Z",
     "start_time": "2025-02-08T22:13:02.410153Z"
    }
   },
   "source": [
    "plt.plot(history.history['accuracy'])\n",
    "plt.title('model accuracy')\n",
    "plt.ylabel('accuracy')\n",
    "plt.xlabel('epoch')"
   ],
   "outputs": [
    {
     "data": {
      "text/plain": [
       "Text(0.5, 0, 'epoch')"
      ]
     },
     "execution_count": 14,
     "metadata": {},
     "output_type": "execute_result"
    },
    {
     "data": {
      "text/plain": [
       "<Figure size 640x480 with 1 Axes>"
      ],
      "image/png": "[encoded data removed]"
     },
     "metadata": {},
     "output_type": "display_data"
    }
   ],
   "execution_count": 14
  },
  {
   "cell_type": "code",
   "id": "38714157b2e83e5b",
   "metadata": {
    "ExecuteTime": {
     "end_time": "2025-02-08T22:13:02.626159Z",
     "start_time": "2025-02-08T22:13:02.561528Z"
    }
   },
   "source": [
    "plt.plot(history.history['loss'])\n",
    "plt.title('model loss')\n",
    "plt.ylabel('loss')\n",
    "plt.xlabel('epoch')"
   ],
   "outputs": [
    {
     "data": {
      "text/plain": [
       "Text(0.5, 0, 'epoch')"
      ]
     },
     "execution_count": 15,
     "metadata": {},
     "output_type": "execute_result"
    },
    {
     "data": {
      "text/plain": [
       "<Figure size 640x480 with 1 Axes>"
      ],
      "image/png": "[encoded data removed]"
     },
     "metadata": {},
     "output_type": "display_data"
    }
   ],
   "execution_count": 15
  },
  {
   "cell_type": "code",
   "id": "a720201e2ca8243a",
   "metadata": {
    "ExecuteTime": {
     "end_time": "2025-02-08T22:13:02.850495Z",
     "start_time": "2025-02-08T22:13:02.638760Z"
    }
   },
   "source": [
    "evaluation = model.evaluate(X_test, y_test)"
   ],
   "outputs": [
    {
     "name": "stdout",
     "output_type": "stream",
     "text": [
      "\u001B[1m2/2\u001B[0m \u001B[32m━━━━━━━━━━━━━━━━━━━━\u001B[0m\u001B[37m\u001B[0m \u001B[1m0s\u001B[0m 47ms/step - accuracy: 0.2875 - loss: 0.2715 \n"
     ]
    }
   ],
   "execution_count": 16
  },
  {
   "cell_type": "code",
   "id": "3c76e72c66107d5e",
   "metadata": {
    "ExecuteTime": {
     "end_time": "2025-02-08T22:13:02.863036Z",
     "start_time": "2025-02-08T22:13:02.860154Z"
    }
   },
   "source": [
    "print(f'Loss: {evaluation[0]}, accuracy: {evaluation[1]}')"
   ],
   "outputs": [
    {
     "name": "stdout",
     "output_type": "stream",
     "text": [
      "Loss: 0.2702499032020569, accuracy: 0.2750000059604645\n"
     ]
    }
   ],
   "execution_count": 17
  },
  {
   "cell_type": "code",
   "id": "16d2a7c8afea2e05",
   "metadata": {
    "ExecuteTime": {
     "end_time": "2025-02-08T22:13:02.874001Z",
     "start_time": "2025-02-08T22:13:02.872670Z"
    }
   },
   "source": [],
   "outputs": [],
   "execution_count": null
  },
  {
   "cell_type": "code",
   "id": "5de5265f78e9a24f",
   "metadata": {
    "ExecuteTime": {
     "end_time": "2025-02-08T22:13:02.950194Z",
     "start_time": "2025-02-08T22:13:02.885817Z"
    }
   },
   "source": [
    "model = models.Sequential()\n",
    "\n",
    "model.add(layers.Input(shape=(300,), name=\"Domain_1\"))\n",
    "\n",
    "model.add(layers.Dense(200, activation='relu', name=\"layer_1\"))\n",
    "\n",
    "model.add(layers.Dropout(0.5, name=\"dropout_3\"))\n",
    "\n",
    "model.add(layers.BatchNormalization(name=\"batch_normalization_3\"))\n",
    "\n",
    "model.add(layers.Dense(100, activation='relu', name=\"layer_2\"))\n",
    "\n",
    "model.add(layers.Dropout(0.5, name=\"dropout_4\"))\n",
    "\n",
    "model.add(layers.BatchNormalization(name=\"batch_normalization_4\"))\n",
    "\n",
    "model.add(layers.Dense(3, activation='softmax', name=\"sentiment\"))\n",
    "\n",
    "model.compile(\n",
    "    optimizer='adam',\n",
    "    loss='sparse_categorical_crossentropy',\n",
    "    metrics=['accuracy']\n",
    ")\n",
    "\n",
    "model.summary()"
   ],
   "outputs": [
    {
     "data": {
      "text/plain": [
       "\u001B[1mModel: \"sequential_1\"\u001B[0m\n"
      ],
      "text/html": [
       "<pre style=\"white-space:pre;overflow-x:auto;line-height:normal;font-family:Menlo,'DejaVu Sans Mono',consolas,'Courier New',monospace\"><span style=\"font-weight: bold\">Model: \"sequential_1\"</span>\n",
       "</pre>\n"
      ]
     },
     "metadata": {},
     "output_type": "display_data"
    },
    {
     "data": {
      "text/plain": [
       "┏━━━━━━━━━━━━━━━━━━━━━━━━━━━━━━━━━┳━━━━━━━━━━━━━━━━━━━━━━━━┳━━━━━━━━━━━━━━━┓\n",
       "┃\u001B[1m \u001B[0m\u001B[1mLayer (type)                   \u001B[0m\u001B[1m \u001B[0m┃\u001B[1m \u001B[0m\u001B[1mOutput Shape          \u001B[0m\u001B[1m \u001B[0m┃\u001B[1m \u001B[0m\u001B[1m      Param #\u001B[0m\u001B[1m \u001B[0m┃\n",
       "┡━━━━━━━━━━━━━━━━━━━━━━━━━━━━━━━━━╇━━━━━━━━━━━━━━━━━━━━━━━━╇━━━━━━━━━━━━━━━┩\n",
       "│ layer_1 (\u001B[38;5;33mDense\u001B[0m)                 │ (\u001B[38;5;45mNone\u001B[0m, \u001B[38;5;34m200\u001B[0m)            │        \u001B[38;5;34m60,200\u001B[0m │\n",
       "├─────────────────────────────────┼────────────────────────┼───────────────┤\n",
       "│ dropout_3 (\u001B[38;5;33mDropout\u001B[0m)             │ (\u001B[38;5;45mNone\u001B[0m, \u001B[38;5;34m200\u001B[0m)            │             \u001B[38;5;34m0\u001B[0m │\n",
       "├─────────────────────────────────┼────────────────────────┼───────────────┤\n",
       "│ batch_normalization_3           │ (\u001B[38;5;45mNone\u001B[0m, \u001B[38;5;34m200\u001B[0m)            │           \u001B[38;5;34m800\u001B[0m │\n",
       "│ (\u001B[38;5;33mBatchNormalization\u001B[0m)            │                        │               │\n",
       "├─────────────────────────────────┼────────────────────────┼───────────────┤\n",
       "│ layer_2 (\u001B[38;5;33mDense\u001B[0m)                 │ (\u001B[38;5;45mNone\u001B[0m, \u001B[38;5;34m100\u001B[0m)            │        \u001B[38;5;34m20,100\u001B[0m │\n",
       "├─────────────────────────────────┼────────────────────────┼───────────────┤\n",
       "│ dropout_4 (\u001B[38;5;33mDropout\u001B[0m)             │ (\u001B[38;5;45mNone\u001B[0m, \u001B[38;5;34m100\u001B[0m)            │             \u001B[38;5;34m0\u001B[0m │\n",
       "├─────────────────────────────────┼────────────────────────┼───────────────┤\n",
       "│ batch_normalization_4           │ (\u001B[38;5;45mNone\u001B[0m, \u001B[38;5;34m100\u001B[0m)            │           \u001B[38;5;34m400\u001B[0m │\n",
       "│ (\u001B[38;5;33mBatchNormalization\u001B[0m)            │                        │               │\n",
       "├─────────────────────────────────┼────────────────────────┼───────────────┤\n",
       "│ sentiment (\u001B[38;5;33mDense\u001B[0m)               │ (\u001B[38;5;45mNone\u001B[0m, \u001B[38;5;34m3\u001B[0m)              │           \u001B[38;5;34m303\u001B[0m │\n",
       "└─────────────────────────────────┴────────────────────────┴───────────────┘\n"
      ],
      "text/html": [
       "<pre style=\"white-space:pre;overflow-x:auto;line-height:normal;font-family:Menlo,'DejaVu Sans Mono',consolas,'Courier New',monospace\">┏━━━━━━━━━━━━━━━━━━━━━━━━━━━━━━━━━┳━━━━━━━━━━━━━━━━━━━━━━━━┳━━━━━━━━━━━━━━━┓\n",
       "┃<span style=\"font-weight: bold\"> Layer (type)                    </span>┃<span style=\"font-weight: bold\"> Output Shape           </span>┃<span style=\"font-weight: bold\">       Param # </span>┃\n",
       "┡━━━━━━━━━━━━━━━━━━━━━━━━━━━━━━━━━╇━━━━━━━━━━━━━━━━━━━━━━━━╇━━━━━━━━━━━━━━━┩\n",
       "│ layer_1 (<span style=\"color: #0087ff; text-decoration-color: #0087ff\">Dense</span>)                 │ (<span style=\"color: #00d7ff; text-decoration-color: #00d7ff\">None</span>, <span style=\"color: #00af00; text-decoration-color: #00af00\">200</span>)            │        <span style=\"color: #00af00; text-decoration-color: #00af00\">60,200</span> │\n",
       "├─────────────────────────────────┼────────────────────────┼───────────────┤\n",
       "│ dropout_3 (<span style=\"color: #0087ff; text-decoration-color: #0087ff\">Dropout</span>)             │ (<span style=\"color: #00d7ff; text-decoration-color: #00d7ff\">None</span>, <span style=\"color: #00af00; text-decoration-color: #00af00\">200</span>)            │             <span style=\"color: #00af00; text-decoration-color: #00af00\">0</span> │\n",
       "├─────────────────────────────────┼────────────────────────┼───────────────┤\n",
       "│ batch_normalization_3           │ (<span style=\"color: #00d7ff; text-decoration-color: #00d7ff\">None</span>, <span style=\"color: #00af00; text-decoration-color: #00af00\">200</span>)            │           <span style=\"color: #00af00; text-decoration-color: #00af00\">800</span> │\n",
       "│ (<span style=\"color: #0087ff; text-decoration-color: #0087ff\">BatchNormalization</span>)            │                        │               │\n",
       "├─────────────────────────────────┼────────────────────────┼───────────────┤\n",
       "│ layer_2 (<span style=\"color: #0087ff; text-decoration-color: #0087ff\">Dense</span>)                 │ (<span style=\"color: #00d7ff; text-decoration-color: #00d7ff\">None</span>, <span style=\"color: #00af00; text-decoration-color: #00af00\">100</span>)            │        <span style=\"color: #00af00; text-decoration-color: #00af00\">20,100</span> │\n",
       "├─────────────────────────────────┼────────────────────────┼───────────────┤\n",
       "│ dropout_4 (<span style=\"color: #0087ff; text-decoration-color: #0087ff\">Dropout</span>)             │ (<span style=\"color: #00d7ff; text-decoration-color: #00d7ff\">None</span>, <span style=\"color: #00af00; text-decoration-color: #00af00\">100</span>)            │             <span style=\"color: #00af00; text-decoration-color: #00af00\">0</span> │\n",
       "├─────────────────────────────────┼────────────────────────┼───────────────┤\n",
       "│ batch_normalization_4           │ (<span style=\"color: #00d7ff; text-decoration-color: #00d7ff\">None</span>, <span style=\"color: #00af00; text-decoration-color: #00af00\">100</span>)            │           <span style=\"color: #00af00; text-decoration-color: #00af00\">400</span> │\n",
       "│ (<span style=\"color: #0087ff; text-decoration-color: #0087ff\">BatchNormalization</span>)            │                        │               │\n",
       "├─────────────────────────────────┼────────────────────────┼───────────────┤\n",
       "│ sentiment (<span style=\"color: #0087ff; text-decoration-color: #0087ff\">Dense</span>)               │ (<span style=\"color: #00d7ff; text-decoration-color: #00d7ff\">None</span>, <span style=\"color: #00af00; text-decoration-color: #00af00\">3</span>)              │           <span style=\"color: #00af00; text-decoration-color: #00af00\">303</span> │\n",
       "└─────────────────────────────────┴────────────────────────┴───────────────┘\n",
       "</pre>\n"
      ]
     },
     "metadata": {},
     "output_type": "display_data"
    },
    {
     "data": {
      "text/plain": [
       "\u001B[1m Total params: \u001B[0m\u001B[38;5;34m81,803\u001B[0m (319.54 KB)\n"
      ],
      "text/html": [
       "<pre style=\"white-space:pre;overflow-x:auto;line-height:normal;font-family:Menlo,'DejaVu Sans Mono',consolas,'Courier New',monospace\"><span style=\"font-weight: bold\"> Total params: </span><span style=\"color: #00af00; text-decoration-color: #00af00\">81,803</span> (319.54 KB)\n",
       "</pre>\n"
      ]
     },
     "metadata": {},
     "output_type": "display_data"
    },
    {
     "data": {
      "text/plain": [
       "\u001B[1m Trainable params: \u001B[0m\u001B[38;5;34m81,203\u001B[0m (317.20 KB)\n"
      ],
      "text/html": [
       "<pre style=\"white-space:pre;overflow-x:auto;line-height:normal;font-family:Menlo,'DejaVu Sans Mono',consolas,'Courier New',monospace\"><span style=\"font-weight: bold\"> Trainable params: </span><span style=\"color: #00af00; text-decoration-color: #00af00\">81,203</span> (317.20 KB)\n",
       "</pre>\n"
      ]
     },
     "metadata": {},
     "output_type": "display_data"
    },
    {
     "data": {
      "text/plain": [
       "\u001B[1m Non-trainable params: \u001B[0m\u001B[38;5;34m600\u001B[0m (2.34 KB)\n"
      ],
      "text/html": [
       "<pre style=\"white-space:pre;overflow-x:auto;line-height:normal;font-family:Menlo,'DejaVu Sans Mono',consolas,'Courier New',monospace\"><span style=\"font-weight: bold\"> Non-trainable params: </span><span style=\"color: #00af00; text-decoration-color: #00af00\">600</span> (2.34 KB)\n",
       "</pre>\n"
      ]
     },
     "metadata": {},
     "output_type": "display_data"
    }
   ],
   "execution_count": 18
  },
  {
   "cell_type": "code",
   "id": "abf27427aa1f8e60",
   "metadata": {
    "ExecuteTime": {
     "end_time": "2025-02-08T22:13:02.979199Z",
     "start_time": "2025-02-08T22:13:02.962464Z"
    }
   },
   "source": [
    "df_with_unlabeled.info()"
   ],
   "outputs": [
    {
     "name": "stdout",
     "output_type": "stream",
     "text": [
      "<class 'pandas.core.frame.DataFrame'>\n",
      "Index: 7717 entries, 198 to 7914\n",
      "Data columns (total 5 columns):\n",
      " #   Column        Non-Null Count  Dtype  \n",
      "---  ------        --------------  -----  \n",
      " 0   text          7717 non-null   object \n",
      " 1   Sentiment     0 non-null      float64\n",
      " 2   Has opinion   0 non-null      float64\n",
      " 3   cleaned_text  7712 non-null   object \n",
      " 4   word_vectors  7717 non-null   object \n",
      "dtypes: float64(2), object(3)\n",
      "memory usage: 361.7+ KB\n"
     ]
    }
   ],
   "execution_count": 19
  },
  {
   "cell_type": "code",
   "id": "5b51cd1f0e64a364",
   "metadata": {
    "ExecuteTime": {
     "end_time": "2025-02-08T22:13:03.174176Z",
     "start_time": "2025-02-08T22:13:02.998398Z"
    }
   },
   "source": [
    "unlabeled_padded_vectors = np.load(\"../data/processed/padded_vectors.npy\")[199:]\n",
    "unlabeled_padded_vectors = unlabeled_padded_vectors.mean(axis=1)\n",
    "unlabeled_padded_vectors.shape"
   ],
   "outputs": [
    {
     "data": {
      "text/plain": [
       "(7716, 300)"
      ]
     },
     "execution_count": 20,
     "metadata": {},
     "output_type": "execute_result"
    }
   ],
   "execution_count": 20
  },
  {
   "cell_type": "code",
   "id": "eca98d0ca076bab6",
   "metadata": {
    "ExecuteTime": {
     "end_time": "2025-02-08T22:13:03.245479Z",
     "start_time": "2025-02-08T22:13:03.243099Z"
    }
   },
   "source": [
    "print(\"Labeled data shape:\", padded_vectors_average.shape)  # Expect (198, 300)\n",
    "print(\"Unlabeled data shape:\", unlabeled_padded_vectors.shape)  # Expect (n, 300)\n"
   ],
   "outputs": [
    {
     "name": "stdout",
     "output_type": "stream",
     "text": [
      "Labeled data shape: (198, 300)\n",
      "Unlabeled data shape: (7716, 300)\n"
     ]
    }
   ],
   "execution_count": 21
  },
  {
   "cell_type": "code",
   "id": "1acf24fe20443991",
   "metadata": {
    "ExecuteTime": {
     "end_time": "2025-02-08T22:13:03.330526Z",
     "start_time": "2025-02-08T22:13:03.324606Z"
    }
   },
   "source": [
    "\n",
    "from scripts.DataDistillation import DataDistillation\n",
    "\n",
    "\n",
    "distillation = DataDistillation(\n",
    "    model,\n",
    "    (padded_vectors_average, df_original[\"Sentiment\"]),\n",
    "    unlabeled_padded_vectors, epochs=10, pseudo_batch_size=1000, random_state=1, validation_split=0.2\n",
    ")\n"
   ],
   "outputs": [],
   "execution_count": 22
  },
  {
   "cell_type": "code",
   "id": "ed5588cc",
   "metadata": {
    "ExecuteTime": {
     "end_time": "2025-02-08T22:13:11.785484Z",
     "start_time": "2025-02-08T22:13:03.348312Z"
    }
   },
   "source": "distillation.start()",
   "outputs": [
    {
     "name": "stdout",
     "output_type": "stream",
     "text": [
      "Starting Data Distillation\n",
      "Training model on labeled training data...\n",
      "Evaluating model on internal validation set...\n",
      "Teacher performance on internal validation set: 0.2750000059604645\n",
      "Starting iteration 1\n",
      "Pseudo-labeled samples in this iteration: 1000\n",
      "Training student on combined data with size (1158, 300)\n",
      "Evaluating model on internal validation set...\n",
      "Student performance on internal validation set: 0.2750000059604645\n",
      "Student did not outperform teacher. Stopping data distillation.\n",
      "Data distillation process completed.\n",
      "Final teacher performance on internal validation set: 0.2750000059604645\n"
     ]
    }
   ],
   "execution_count": 23
  }
 ],
 "metadata": {
  "kernelspec": {
   "display_name": "diplomova_praca_kod",
   "language": "python",
   "name": "python3"
  },
  "language_info": {
   "codemirror_mode": {
    "name": "ipython",
    "version": 3
   },
   "file_extension": ".py",
   "mimetype": "text/x-python",
   "name": "python",
   "nbconvert_exporter": "python",
   "pygments_lexer": "ipython3",
   "version": "3.11.11"
  }
 },
 "nbformat": 4,
 "nbformat_minor": 5
}
